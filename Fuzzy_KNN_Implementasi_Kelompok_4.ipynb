{
  "cells": [
    {
      "cell_type": "markdown",
      "metadata": {
        "id": "view-in-github",
        "colab_type": "text"
      },
      "source": [
        "<a href=\"https://colab.research.google.com/github/dianaayusukma27/HeartFailureClassificationFuzzyKnn/blob/main/Fuzzy_KNN_Implementasi_Kelompok_4.ipynb\" target=\"_parent\"><img src=\"https://colab.research.google.com/assets/colab-badge.svg\" alt=\"Open In Colab\"/></a>"
      ]
    },
    {
      "cell_type": "markdown",
      "source": [
        "#KELOMPOK 4\n",
        "\n",
        "Aurelia Sukianto - 205150200111068\n",
        "\n",
        "Diana Ayu Sukma Putri - 205150201111056\n",
        "\n",
        "Anasya Miftakus Sururi - 205150201111013\n",
        "\n",
        "Putri Rahmawati - 205150201111022"
      ],
      "metadata": {
        "id": "0EVMm2qZ4kH1"
      }
    },
    {
      "cell_type": "markdown",
      "source": [
        "#Import Library"
      ],
      "metadata": {
        "id": "AL810D1241lK"
      }
    },
    {
      "cell_type": "code",
      "execution_count": null,
      "metadata": {
        "id": "plCQoeq7PFFp"
      },
      "outputs": [],
      "source": [
        "import numpy as np\n",
        "import pandas as pd\n",
        "import matplotlib \n",
        "import scipy\n",
        "import sklearn\n",
        "import csv"
      ]
    },
    {
      "cell_type": "markdown",
      "metadata": {
        "id": "-v92MatMlKr4"
      },
      "source": [
        "#Import Data"
      ]
    },
    {
      "cell_type": "code",
      "execution_count": null,
      "metadata": {
        "colab": {
          "base_uri": "https://localhost:8080/"
        },
        "id": "6ft-2HtC8Y8v",
        "outputId": "e31d0a9e-b492-48b7-ecb0-0d91b5cdc5f6"
      },
      "outputs": [
        {
          "output_type": "stream",
          "name": "stdout",
          "text": [
            "--2022-05-23 01:28:47--  https://raw.githubusercontent.com/ptri16/PPM/main/heart.csv\n",
            "Resolving raw.githubusercontent.com (raw.githubusercontent.com)... 185.199.108.133, 185.199.109.133, 185.199.110.133, ...\n",
            "Connecting to raw.githubusercontent.com (raw.githubusercontent.com)|185.199.108.133|:443... connected.\n",
            "HTTP request sent, awaiting response... 200 OK\n",
            "Length: 35921 (35K) [text/plain]\n",
            "Saving to: ‘heart.csv’\n",
            "\n",
            "\rheart.csv             0%[                    ]       0  --.-KB/s               \rheart.csv           100%[===================>]  35.08K  --.-KB/s    in 0.003s  \n",
            "\n",
            "2022-05-23 01:28:47 (11.8 MB/s) - ‘heart.csv’ saved [35921/35921]\n",
            "\n"
          ]
        }
      ],
      "source": [
        "! wget https://raw.githubusercontent.com/ptri16/PPM/main/heart.csv"
      ]
    },
    {
      "cell_type": "code",
      "execution_count": null,
      "metadata": {
        "id": "TjGT8sPC8gZP"
      },
      "outputs": [],
      "source": [
        "data = pd.read_csv('heart.csv')"
      ]
    },
    {
      "cell_type": "code",
      "execution_count": null,
      "metadata": {
        "colab": {
          "base_uri": "https://localhost:8080/",
          "height": 250
        },
        "id": "yE8ZdKUkQxYJ",
        "outputId": "65000d3c-334d-40a5-d60a-04215c53bfe6"
      },
      "outputs": [
        {
          "output_type": "execute_result",
          "data": {
            "text/plain": [
              "   Age Sex ChestPainType  RestingBP  Cholesterol  FastingBS RestingECG  MaxHR  \\\n",
              "0   40   M           ATA        140          289          0     Normal    172   \n",
              "1   49   F           NAP        160          180          0     Normal    156   \n",
              "2   37   M           ATA        130          283          0         ST     98   \n",
              "3   48   F           ASY        138          214          0     Normal    108   \n",
              "4   54   M           NAP        150          195          0     Normal    122   \n",
              "\n",
              "  ExerciseAngina  Oldpeak ST_Slope  HeartDisease  \n",
              "0              N      0.0       Up             0  \n",
              "1              N      1.0     Flat             1  \n",
              "2              N      0.0       Up             0  \n",
              "3              Y      1.5     Flat             1  \n",
              "4              N      0.0       Up             0  "
            ],
            "text/html": [
              "\n",
              "  <div id=\"df-d13bcff2-aefc-4a51-a2ee-d0a8ed0932b1\">\n",
              "    <div class=\"colab-df-container\">\n",
              "      <div>\n",
              "<style scoped>\n",
              "    .dataframe tbody tr th:only-of-type {\n",
              "        vertical-align: middle;\n",
              "    }\n",
              "\n",
              "    .dataframe tbody tr th {\n",
              "        vertical-align: top;\n",
              "    }\n",
              "\n",
              "    .dataframe thead th {\n",
              "        text-align: right;\n",
              "    }\n",
              "</style>\n",
              "<table border=\"1\" class=\"dataframe\">\n",
              "  <thead>\n",
              "    <tr style=\"text-align: right;\">\n",
              "      <th></th>\n",
              "      <th>Age</th>\n",
              "      <th>Sex</th>\n",
              "      <th>ChestPainType</th>\n",
              "      <th>RestingBP</th>\n",
              "      <th>Cholesterol</th>\n",
              "      <th>FastingBS</th>\n",
              "      <th>RestingECG</th>\n",
              "      <th>MaxHR</th>\n",
              "      <th>ExerciseAngina</th>\n",
              "      <th>Oldpeak</th>\n",
              "      <th>ST_Slope</th>\n",
              "      <th>HeartDisease</th>\n",
              "    </tr>\n",
              "  </thead>\n",
              "  <tbody>\n",
              "    <tr>\n",
              "      <th>0</th>\n",
              "      <td>40</td>\n",
              "      <td>M</td>\n",
              "      <td>ATA</td>\n",
              "      <td>140</td>\n",
              "      <td>289</td>\n",
              "      <td>0</td>\n",
              "      <td>Normal</td>\n",
              "      <td>172</td>\n",
              "      <td>N</td>\n",
              "      <td>0.0</td>\n",
              "      <td>Up</td>\n",
              "      <td>0</td>\n",
              "    </tr>\n",
              "    <tr>\n",
              "      <th>1</th>\n",
              "      <td>49</td>\n",
              "      <td>F</td>\n",
              "      <td>NAP</td>\n",
              "      <td>160</td>\n",
              "      <td>180</td>\n",
              "      <td>0</td>\n",
              "      <td>Normal</td>\n",
              "      <td>156</td>\n",
              "      <td>N</td>\n",
              "      <td>1.0</td>\n",
              "      <td>Flat</td>\n",
              "      <td>1</td>\n",
              "    </tr>\n",
              "    <tr>\n",
              "      <th>2</th>\n",
              "      <td>37</td>\n",
              "      <td>M</td>\n",
              "      <td>ATA</td>\n",
              "      <td>130</td>\n",
              "      <td>283</td>\n",
              "      <td>0</td>\n",
              "      <td>ST</td>\n",
              "      <td>98</td>\n",
              "      <td>N</td>\n",
              "      <td>0.0</td>\n",
              "      <td>Up</td>\n",
              "      <td>0</td>\n",
              "    </tr>\n",
              "    <tr>\n",
              "      <th>3</th>\n",
              "      <td>48</td>\n",
              "      <td>F</td>\n",
              "      <td>ASY</td>\n",
              "      <td>138</td>\n",
              "      <td>214</td>\n",
              "      <td>0</td>\n",
              "      <td>Normal</td>\n",
              "      <td>108</td>\n",
              "      <td>Y</td>\n",
              "      <td>1.5</td>\n",
              "      <td>Flat</td>\n",
              "      <td>1</td>\n",
              "    </tr>\n",
              "    <tr>\n",
              "      <th>4</th>\n",
              "      <td>54</td>\n",
              "      <td>M</td>\n",
              "      <td>NAP</td>\n",
              "      <td>150</td>\n",
              "      <td>195</td>\n",
              "      <td>0</td>\n",
              "      <td>Normal</td>\n",
              "      <td>122</td>\n",
              "      <td>N</td>\n",
              "      <td>0.0</td>\n",
              "      <td>Up</td>\n",
              "      <td>0</td>\n",
              "    </tr>\n",
              "  </tbody>\n",
              "</table>\n",
              "</div>\n",
              "      <button class=\"colab-df-convert\" onclick=\"convertToInteractive('df-d13bcff2-aefc-4a51-a2ee-d0a8ed0932b1')\"\n",
              "              title=\"Convert this dataframe to an interactive table.\"\n",
              "              style=\"display:none;\">\n",
              "        \n",
              "  <svg xmlns=\"http://www.w3.org/2000/svg\" height=\"24px\"viewBox=\"0 0 24 24\"\n",
              "       width=\"24px\">\n",
              "    <path d=\"M0 0h24v24H0V0z\" fill=\"none\"/>\n",
              "    <path d=\"M18.56 5.44l.94 2.06.94-2.06 2.06-.94-2.06-.94-.94-2.06-.94 2.06-2.06.94zm-11 1L8.5 8.5l.94-2.06 2.06-.94-2.06-.94L8.5 2.5l-.94 2.06-2.06.94zm10 10l.94 2.06.94-2.06 2.06-.94-2.06-.94-.94-2.06-.94 2.06-2.06.94z\"/><path d=\"M17.41 7.96l-1.37-1.37c-.4-.4-.92-.59-1.43-.59-.52 0-1.04.2-1.43.59L10.3 9.45l-7.72 7.72c-.78.78-.78 2.05 0 2.83L4 21.41c.39.39.9.59 1.41.59.51 0 1.02-.2 1.41-.59l7.78-7.78 2.81-2.81c.8-.78.8-2.07 0-2.86zM5.41 20L4 18.59l7.72-7.72 1.47 1.35L5.41 20z\"/>\n",
              "  </svg>\n",
              "      </button>\n",
              "      \n",
              "  <style>\n",
              "    .colab-df-container {\n",
              "      display:flex;\n",
              "      flex-wrap:wrap;\n",
              "      gap: 12px;\n",
              "    }\n",
              "\n",
              "    .colab-df-convert {\n",
              "      background-color: #E8F0FE;\n",
              "      border: none;\n",
              "      border-radius: 50%;\n",
              "      cursor: pointer;\n",
              "      display: none;\n",
              "      fill: #1967D2;\n",
              "      height: 32px;\n",
              "      padding: 0 0 0 0;\n",
              "      width: 32px;\n",
              "    }\n",
              "\n",
              "    .colab-df-convert:hover {\n",
              "      background-color: #E2EBFA;\n",
              "      box-shadow: 0px 1px 2px rgba(60, 64, 67, 0.3), 0px 1px 3px 1px rgba(60, 64, 67, 0.15);\n",
              "      fill: #174EA6;\n",
              "    }\n",
              "\n",
              "    [theme=dark] .colab-df-convert {\n",
              "      background-color: #3B4455;\n",
              "      fill: #D2E3FC;\n",
              "    }\n",
              "\n",
              "    [theme=dark] .colab-df-convert:hover {\n",
              "      background-color: #434B5C;\n",
              "      box-shadow: 0px 1px 3px 1px rgba(0, 0, 0, 0.15);\n",
              "      filter: drop-shadow(0px 1px 2px rgba(0, 0, 0, 0.3));\n",
              "      fill: #FFFFFF;\n",
              "    }\n",
              "  </style>\n",
              "\n",
              "      <script>\n",
              "        const buttonEl =\n",
              "          document.querySelector('#df-d13bcff2-aefc-4a51-a2ee-d0a8ed0932b1 button.colab-df-convert');\n",
              "        buttonEl.style.display =\n",
              "          google.colab.kernel.accessAllowed ? 'block' : 'none';\n",
              "\n",
              "        async function convertToInteractive(key) {\n",
              "          const element = document.querySelector('#df-d13bcff2-aefc-4a51-a2ee-d0a8ed0932b1');\n",
              "          const dataTable =\n",
              "            await google.colab.kernel.invokeFunction('convertToInteractive',\n",
              "                                                     [key], {});\n",
              "          if (!dataTable) return;\n",
              "\n",
              "          const docLinkHtml = 'Like what you see? Visit the ' +\n",
              "            '<a target=\"_blank\" href=https://colab.research.google.com/notebooks/data_table.ipynb>data table notebook</a>'\n",
              "            + ' to learn more about interactive tables.';\n",
              "          element.innerHTML = '';\n",
              "          dataTable['output_type'] = 'display_data';\n",
              "          await google.colab.output.renderOutput(dataTable, element);\n",
              "          const docLink = document.createElement('div');\n",
              "          docLink.innerHTML = docLinkHtml;\n",
              "          element.appendChild(docLink);\n",
              "        }\n",
              "      </script>\n",
              "    </div>\n",
              "  </div>\n",
              "  "
            ]
          },
          "metadata": {},
          "execution_count": 4
        }
      ],
      "source": [
        "data.head(5)"
      ]
    },
    {
      "cell_type": "markdown",
      "metadata": {
        "id": "1XT8Xl93lPFv"
      },
      "source": [
        "#Pre-proses Data"
      ]
    },
    {
      "cell_type": "code",
      "execution_count": null,
      "metadata": {
        "id": "u8ZYo_9uwcDy"
      },
      "outputs": [],
      "source": [
        "def imputasi(df_input, columnName):\n",
        "  list_columns = df_input.columns\n",
        "  class_column = list_columns[-1]\n",
        "  df_input[columnName] = df_input[columnName].fillna(df_input.groupby(class_column)[columnName].transform('mean'))\n",
        "  return df_input"
      ]
    },
    {
      "cell_type": "code",
      "execution_count": null,
      "metadata": {
        "id": "MucM-rwfQRHb"
      },
      "outputs": [],
      "source": [
        "def normalisasi(dataImputasi):\n",
        "  data_normalisasi = dataImputasi.copy()\n",
        "  list_column = ['Cholesterol','RestingBP','Age','MaxHR','Oldpeak']\n",
        "  for column in list_column:\n",
        "   mean = np.mean(data_normalisasi[column])\n",
        "   std = np.std(data_normalisasi[column])\n",
        "   data_normalisasi[column] = (data_normalisasi[column] - mean) / std\n",
        "  \n",
        "  return data_normalisasi"
      ]
    },
    {
      "cell_type": "markdown",
      "metadata": {
        "id": "eLsCt-7VPhMG"
      },
      "source": [
        "##IMPUTASI"
      ]
    },
    {
      "cell_type": "code",
      "execution_count": null,
      "metadata": {
        "colab": {
          "base_uri": "https://localhost:8080/"
        },
        "id": "xx-n1NEvjt8t",
        "outputId": "2425325d-c1b4-4fde-cdda-0bfa0c97f6a0"
      },
      "outputs": [
        {
          "output_type": "stream",
          "name": "stdout",
          "text": [
            "False\n",
            "False\n"
          ]
        }
      ],
      "source": [
        "print(data.isnull().values.any())\n",
        "print(pd.isna(data).values.any())"
      ]
    },
    {
      "cell_type": "code",
      "execution_count": null,
      "metadata": {
        "id": "K7K5LuTF6toc"
      },
      "outputs": [],
      "source": [
        "heart_copy = data.copy()"
      ]
    },
    {
      "cell_type": "code",
      "execution_count": null,
      "metadata": {
        "colab": {
          "base_uri": "https://localhost:8080/",
          "height": 145
        },
        "id": "jUBIUlSv7Z38",
        "outputId": "8b9ab8b8-ae72-40fd-b300-c61ae2c60c23"
      },
      "outputs": [
        {
          "output_type": "execute_result",
          "data": {
            "text/plain": [
              "     Age Sex ChestPainType  RestingBP  Cholesterol  FastingBS RestingECG  \\\n",
              "449   55   M           NAP          0            0          0     Normal   \n",
              "\n",
              "     MaxHR ExerciseAngina  Oldpeak ST_Slope  HeartDisease  \n",
              "449    155              N      1.5     Flat             1  "
            ],
            "text/html": [
              "\n",
              "  <div id=\"df-82ff9f0c-375c-466c-9b08-fd0366b9a8a2\">\n",
              "    <div class=\"colab-df-container\">\n",
              "      <div>\n",
              "<style scoped>\n",
              "    .dataframe tbody tr th:only-of-type {\n",
              "        vertical-align: middle;\n",
              "    }\n",
              "\n",
              "    .dataframe tbody tr th {\n",
              "        vertical-align: top;\n",
              "    }\n",
              "\n",
              "    .dataframe thead th {\n",
              "        text-align: right;\n",
              "    }\n",
              "</style>\n",
              "<table border=\"1\" class=\"dataframe\">\n",
              "  <thead>\n",
              "    <tr style=\"text-align: right;\">\n",
              "      <th></th>\n",
              "      <th>Age</th>\n",
              "      <th>Sex</th>\n",
              "      <th>ChestPainType</th>\n",
              "      <th>RestingBP</th>\n",
              "      <th>Cholesterol</th>\n",
              "      <th>FastingBS</th>\n",
              "      <th>RestingECG</th>\n",
              "      <th>MaxHR</th>\n",
              "      <th>ExerciseAngina</th>\n",
              "      <th>Oldpeak</th>\n",
              "      <th>ST_Slope</th>\n",
              "      <th>HeartDisease</th>\n",
              "    </tr>\n",
              "  </thead>\n",
              "  <tbody>\n",
              "    <tr>\n",
              "      <th>449</th>\n",
              "      <td>55</td>\n",
              "      <td>M</td>\n",
              "      <td>NAP</td>\n",
              "      <td>0</td>\n",
              "      <td>0</td>\n",
              "      <td>0</td>\n",
              "      <td>Normal</td>\n",
              "      <td>155</td>\n",
              "      <td>N</td>\n",
              "      <td>1.5</td>\n",
              "      <td>Flat</td>\n",
              "      <td>1</td>\n",
              "    </tr>\n",
              "  </tbody>\n",
              "</table>\n",
              "</div>\n",
              "      <button class=\"colab-df-convert\" onclick=\"convertToInteractive('df-82ff9f0c-375c-466c-9b08-fd0366b9a8a2')\"\n",
              "              title=\"Convert this dataframe to an interactive table.\"\n",
              "              style=\"display:none;\">\n",
              "        \n",
              "  <svg xmlns=\"http://www.w3.org/2000/svg\" height=\"24px\"viewBox=\"0 0 24 24\"\n",
              "       width=\"24px\">\n",
              "    <path d=\"M0 0h24v24H0V0z\" fill=\"none\"/>\n",
              "    <path d=\"M18.56 5.44l.94 2.06.94-2.06 2.06-.94-2.06-.94-.94-2.06-.94 2.06-2.06.94zm-11 1L8.5 8.5l.94-2.06 2.06-.94-2.06-.94L8.5 2.5l-.94 2.06-2.06.94zm10 10l.94 2.06.94-2.06 2.06-.94-2.06-.94-.94-2.06-.94 2.06-2.06.94z\"/><path d=\"M17.41 7.96l-1.37-1.37c-.4-.4-.92-.59-1.43-.59-.52 0-1.04.2-1.43.59L10.3 9.45l-7.72 7.72c-.78.78-.78 2.05 0 2.83L4 21.41c.39.39.9.59 1.41.59.51 0 1.02-.2 1.41-.59l7.78-7.78 2.81-2.81c.8-.78.8-2.07 0-2.86zM5.41 20L4 18.59l7.72-7.72 1.47 1.35L5.41 20z\"/>\n",
              "  </svg>\n",
              "      </button>\n",
              "      \n",
              "  <style>\n",
              "    .colab-df-container {\n",
              "      display:flex;\n",
              "      flex-wrap:wrap;\n",
              "      gap: 12px;\n",
              "    }\n",
              "\n",
              "    .colab-df-convert {\n",
              "      background-color: #E8F0FE;\n",
              "      border: none;\n",
              "      border-radius: 50%;\n",
              "      cursor: pointer;\n",
              "      display: none;\n",
              "      fill: #1967D2;\n",
              "      height: 32px;\n",
              "      padding: 0 0 0 0;\n",
              "      width: 32px;\n",
              "    }\n",
              "\n",
              "    .colab-df-convert:hover {\n",
              "      background-color: #E2EBFA;\n",
              "      box-shadow: 0px 1px 2px rgba(60, 64, 67, 0.3), 0px 1px 3px 1px rgba(60, 64, 67, 0.15);\n",
              "      fill: #174EA6;\n",
              "    }\n",
              "\n",
              "    [theme=dark] .colab-df-convert {\n",
              "      background-color: #3B4455;\n",
              "      fill: #D2E3FC;\n",
              "    }\n",
              "\n",
              "    [theme=dark] .colab-df-convert:hover {\n",
              "      background-color: #434B5C;\n",
              "      box-shadow: 0px 1px 3px 1px rgba(0, 0, 0, 0.15);\n",
              "      filter: drop-shadow(0px 1px 2px rgba(0, 0, 0, 0.3));\n",
              "      fill: #FFFFFF;\n",
              "    }\n",
              "  </style>\n",
              "\n",
              "      <script>\n",
              "        const buttonEl =\n",
              "          document.querySelector('#df-82ff9f0c-375c-466c-9b08-fd0366b9a8a2 button.colab-df-convert');\n",
              "        buttonEl.style.display =\n",
              "          google.colab.kernel.accessAllowed ? 'block' : 'none';\n",
              "\n",
              "        async function convertToInteractive(key) {\n",
              "          const element = document.querySelector('#df-82ff9f0c-375c-466c-9b08-fd0366b9a8a2');\n",
              "          const dataTable =\n",
              "            await google.colab.kernel.invokeFunction('convertToInteractive',\n",
              "                                                     [key], {});\n",
              "          if (!dataTable) return;\n",
              "\n",
              "          const docLinkHtml = 'Like what you see? Visit the ' +\n",
              "            '<a target=\"_blank\" href=https://colab.research.google.com/notebooks/data_table.ipynb>data table notebook</a>'\n",
              "            + ' to learn more about interactive tables.';\n",
              "          element.innerHTML = '';\n",
              "          dataTable['output_type'] = 'display_data';\n",
              "          await google.colab.output.renderOutput(dataTable, element);\n",
              "          const docLink = document.createElement('div');\n",
              "          docLink.innerHTML = docLinkHtml;\n",
              "          element.appendChild(docLink);\n",
              "        }\n",
              "      </script>\n",
              "    </div>\n",
              "  </div>\n",
              "  "
            ]
          },
          "metadata": {},
          "execution_count": 9
        }
      ],
      "source": [
        "kondisi1 = heart_copy['Age'] == 0\n",
        "kondisi2 = heart_copy['RestingBP'] == 0\n",
        "kondisi3 = heart_copy['Cholesterol'] == 0\n",
        "heart_copy.loc[kondisi2]"
      ]
    },
    {
      "cell_type": "code",
      "execution_count": null,
      "metadata": {
        "id": "B5hs1s0j9mH4"
      },
      "outputs": [],
      "source": [
        "##Untuk missing value dihandle pakai imputasi dengan diganti nilai mean dari tiap kategori\n",
        "heart_copy['Cholesterol'] = heart_copy['Cholesterol'].replace(0, np.NaN)\n",
        "heart_copy['RestingBP'] = heart_copy['RestingBP'].replace(0, np.NaN)"
      ]
    },
    {
      "cell_type": "code",
      "execution_count": null,
      "metadata": {
        "id": "aYa0j8ZVvETd"
      },
      "outputs": [],
      "source": [
        "heart_imputasi = imputasi(heart_copy, 'Cholesterol')\n",
        "heart_imputasi = imputasi(heart_imputasi,'RestingBP')"
      ]
    },
    {
      "cell_type": "code",
      "execution_count": null,
      "metadata": {
        "colab": {
          "base_uri": "https://localhost:8080/",
          "height": 93
        },
        "id": "l3be1tgDvxeD",
        "outputId": "e1b0ded7-a392-446a-e07a-7876cfbad3f0"
      },
      "outputs": [
        {
          "output_type": "execute_result",
          "data": {
            "text/plain": [
              "Empty DataFrame\n",
              "Columns: [Age, Sex, ChestPainType, RestingBP, Cholesterol, FastingBS, RestingECG, MaxHR, ExerciseAngina, Oldpeak, ST_Slope, HeartDisease]\n",
              "Index: []"
            ],
            "text/html": [
              "\n",
              "  <div id=\"df-92aefa1f-5e1e-4f6d-8201-9c881672ff7b\">\n",
              "    <div class=\"colab-df-container\">\n",
              "      <div>\n",
              "<style scoped>\n",
              "    .dataframe tbody tr th:only-of-type {\n",
              "        vertical-align: middle;\n",
              "    }\n",
              "\n",
              "    .dataframe tbody tr th {\n",
              "        vertical-align: top;\n",
              "    }\n",
              "\n",
              "    .dataframe thead th {\n",
              "        text-align: right;\n",
              "    }\n",
              "</style>\n",
              "<table border=\"1\" class=\"dataframe\">\n",
              "  <thead>\n",
              "    <tr style=\"text-align: right;\">\n",
              "      <th></th>\n",
              "      <th>Age</th>\n",
              "      <th>Sex</th>\n",
              "      <th>ChestPainType</th>\n",
              "      <th>RestingBP</th>\n",
              "      <th>Cholesterol</th>\n",
              "      <th>FastingBS</th>\n",
              "      <th>RestingECG</th>\n",
              "      <th>MaxHR</th>\n",
              "      <th>ExerciseAngina</th>\n",
              "      <th>Oldpeak</th>\n",
              "      <th>ST_Slope</th>\n",
              "      <th>HeartDisease</th>\n",
              "    </tr>\n",
              "  </thead>\n",
              "  <tbody>\n",
              "  </tbody>\n",
              "</table>\n",
              "</div>\n",
              "      <button class=\"colab-df-convert\" onclick=\"convertToInteractive('df-92aefa1f-5e1e-4f6d-8201-9c881672ff7b')\"\n",
              "              title=\"Convert this dataframe to an interactive table.\"\n",
              "              style=\"display:none;\">\n",
              "        \n",
              "  <svg xmlns=\"http://www.w3.org/2000/svg\" height=\"24px\"viewBox=\"0 0 24 24\"\n",
              "       width=\"24px\">\n",
              "    <path d=\"M0 0h24v24H0V0z\" fill=\"none\"/>\n",
              "    <path d=\"M18.56 5.44l.94 2.06.94-2.06 2.06-.94-2.06-.94-.94-2.06-.94 2.06-2.06.94zm-11 1L8.5 8.5l.94-2.06 2.06-.94-2.06-.94L8.5 2.5l-.94 2.06-2.06.94zm10 10l.94 2.06.94-2.06 2.06-.94-2.06-.94-.94-2.06-.94 2.06-2.06.94z\"/><path d=\"M17.41 7.96l-1.37-1.37c-.4-.4-.92-.59-1.43-.59-.52 0-1.04.2-1.43.59L10.3 9.45l-7.72 7.72c-.78.78-.78 2.05 0 2.83L4 21.41c.39.39.9.59 1.41.59.51 0 1.02-.2 1.41-.59l7.78-7.78 2.81-2.81c.8-.78.8-2.07 0-2.86zM5.41 20L4 18.59l7.72-7.72 1.47 1.35L5.41 20z\"/>\n",
              "  </svg>\n",
              "      </button>\n",
              "      \n",
              "  <style>\n",
              "    .colab-df-container {\n",
              "      display:flex;\n",
              "      flex-wrap:wrap;\n",
              "      gap: 12px;\n",
              "    }\n",
              "\n",
              "    .colab-df-convert {\n",
              "      background-color: #E8F0FE;\n",
              "      border: none;\n",
              "      border-radius: 50%;\n",
              "      cursor: pointer;\n",
              "      display: none;\n",
              "      fill: #1967D2;\n",
              "      height: 32px;\n",
              "      padding: 0 0 0 0;\n",
              "      width: 32px;\n",
              "    }\n",
              "\n",
              "    .colab-df-convert:hover {\n",
              "      background-color: #E2EBFA;\n",
              "      box-shadow: 0px 1px 2px rgba(60, 64, 67, 0.3), 0px 1px 3px 1px rgba(60, 64, 67, 0.15);\n",
              "      fill: #174EA6;\n",
              "    }\n",
              "\n",
              "    [theme=dark] .colab-df-convert {\n",
              "      background-color: #3B4455;\n",
              "      fill: #D2E3FC;\n",
              "    }\n",
              "\n",
              "    [theme=dark] .colab-df-convert:hover {\n",
              "      background-color: #434B5C;\n",
              "      box-shadow: 0px 1px 3px 1px rgba(0, 0, 0, 0.15);\n",
              "      filter: drop-shadow(0px 1px 2px rgba(0, 0, 0, 0.3));\n",
              "      fill: #FFFFFF;\n",
              "    }\n",
              "  </style>\n",
              "\n",
              "      <script>\n",
              "        const buttonEl =\n",
              "          document.querySelector('#df-92aefa1f-5e1e-4f6d-8201-9c881672ff7b button.colab-df-convert');\n",
              "        buttonEl.style.display =\n",
              "          google.colab.kernel.accessAllowed ? 'block' : 'none';\n",
              "\n",
              "        async function convertToInteractive(key) {\n",
              "          const element = document.querySelector('#df-92aefa1f-5e1e-4f6d-8201-9c881672ff7b');\n",
              "          const dataTable =\n",
              "            await google.colab.kernel.invokeFunction('convertToInteractive',\n",
              "                                                     [key], {});\n",
              "          if (!dataTable) return;\n",
              "\n",
              "          const docLinkHtml = 'Like what you see? Visit the ' +\n",
              "            '<a target=\"_blank\" href=https://colab.research.google.com/notebooks/data_table.ipynb>data table notebook</a>'\n",
              "            + ' to learn more about interactive tables.';\n",
              "          element.innerHTML = '';\n",
              "          dataTable['output_type'] = 'display_data';\n",
              "          await google.colab.output.renderOutput(dataTable, element);\n",
              "          const docLink = document.createElement('div');\n",
              "          docLink.innerHTML = docLinkHtml;\n",
              "          element.appendChild(docLink);\n",
              "        }\n",
              "      </script>\n",
              "    </div>\n",
              "  </div>\n",
              "  "
            ]
          },
          "metadata": {},
          "execution_count": 12
        }
      ],
      "source": [
        "kondisi = heart_imputasi['RestingBP'] == 0\n",
        "heart_imputasi.loc[kondisi]"
      ]
    },
    {
      "cell_type": "markdown",
      "metadata": {
        "id": "1GMh8O9FQ6Ny"
      },
      "source": [
        "##NORMALISASI"
      ]
    },
    {
      "cell_type": "code",
      "execution_count": null,
      "metadata": {
        "colab": {
          "base_uri": "https://localhost:8080/",
          "height": 270
        },
        "id": "vCP4VIkqQ7lJ",
        "outputId": "69a2beca-dc1f-4b4a-ce3e-82a33546db02"
      },
      "outputs": [
        {
          "output_type": "execute_result",
          "data": {
            "text/plain": [
              "        Age Sex ChestPainType  RestingBP  Cholesterol  FastingBS RestingECG  \\\n",
              "0 -1.433140   M           ATA   0.414735     0.813998          0     Normal   \n",
              "1 -0.478484   F           NAP   1.527067    -1.229040          0     Normal   \n",
              "2 -1.751359   M           ATA  -0.141432     0.701537          0         ST   \n",
              "3 -0.584556   F           ASY   0.303501    -0.591762          0     Normal   \n",
              "4  0.051881   M           NAP   0.970901    -0.947888          0     Normal   \n",
              "\n",
              "      MaxHR ExerciseAngina   Oldpeak ST_Slope  HeartDisease  \n",
              "0  1.382928              N -0.832432       Up             0  \n",
              "1  0.754157              N  0.105664     Flat             1  \n",
              "2 -1.525138              N -0.832432       Up             0  \n",
              "3 -1.132156              Y  0.574711     Flat             1  \n",
              "4 -0.581981              N -0.832432       Up             0  "
            ],
            "text/html": [
              "\n",
              "  <div id=\"df-d86e30c6-3a2e-4d5d-b643-53e6b5096582\">\n",
              "    <div class=\"colab-df-container\">\n",
              "      <div>\n",
              "<style scoped>\n",
              "    .dataframe tbody tr th:only-of-type {\n",
              "        vertical-align: middle;\n",
              "    }\n",
              "\n",
              "    .dataframe tbody tr th {\n",
              "        vertical-align: top;\n",
              "    }\n",
              "\n",
              "    .dataframe thead th {\n",
              "        text-align: right;\n",
              "    }\n",
              "</style>\n",
              "<table border=\"1\" class=\"dataframe\">\n",
              "  <thead>\n",
              "    <tr style=\"text-align: right;\">\n",
              "      <th></th>\n",
              "      <th>Age</th>\n",
              "      <th>Sex</th>\n",
              "      <th>ChestPainType</th>\n",
              "      <th>RestingBP</th>\n",
              "      <th>Cholesterol</th>\n",
              "      <th>FastingBS</th>\n",
              "      <th>RestingECG</th>\n",
              "      <th>MaxHR</th>\n",
              "      <th>ExerciseAngina</th>\n",
              "      <th>Oldpeak</th>\n",
              "      <th>ST_Slope</th>\n",
              "      <th>HeartDisease</th>\n",
              "    </tr>\n",
              "  </thead>\n",
              "  <tbody>\n",
              "    <tr>\n",
              "      <th>0</th>\n",
              "      <td>-1.433140</td>\n",
              "      <td>M</td>\n",
              "      <td>ATA</td>\n",
              "      <td>0.414735</td>\n",
              "      <td>0.813998</td>\n",
              "      <td>0</td>\n",
              "      <td>Normal</td>\n",
              "      <td>1.382928</td>\n",
              "      <td>N</td>\n",
              "      <td>-0.832432</td>\n",
              "      <td>Up</td>\n",
              "      <td>0</td>\n",
              "    </tr>\n",
              "    <tr>\n",
              "      <th>1</th>\n",
              "      <td>-0.478484</td>\n",
              "      <td>F</td>\n",
              "      <td>NAP</td>\n",
              "      <td>1.527067</td>\n",
              "      <td>-1.229040</td>\n",
              "      <td>0</td>\n",
              "      <td>Normal</td>\n",
              "      <td>0.754157</td>\n",
              "      <td>N</td>\n",
              "      <td>0.105664</td>\n",
              "      <td>Flat</td>\n",
              "      <td>1</td>\n",
              "    </tr>\n",
              "    <tr>\n",
              "      <th>2</th>\n",
              "      <td>-1.751359</td>\n",
              "      <td>M</td>\n",
              "      <td>ATA</td>\n",
              "      <td>-0.141432</td>\n",
              "      <td>0.701537</td>\n",
              "      <td>0</td>\n",
              "      <td>ST</td>\n",
              "      <td>-1.525138</td>\n",
              "      <td>N</td>\n",
              "      <td>-0.832432</td>\n",
              "      <td>Up</td>\n",
              "      <td>0</td>\n",
              "    </tr>\n",
              "    <tr>\n",
              "      <th>3</th>\n",
              "      <td>-0.584556</td>\n",
              "      <td>F</td>\n",
              "      <td>ASY</td>\n",
              "      <td>0.303501</td>\n",
              "      <td>-0.591762</td>\n",
              "      <td>0</td>\n",
              "      <td>Normal</td>\n",
              "      <td>-1.132156</td>\n",
              "      <td>Y</td>\n",
              "      <td>0.574711</td>\n",
              "      <td>Flat</td>\n",
              "      <td>1</td>\n",
              "    </tr>\n",
              "    <tr>\n",
              "      <th>4</th>\n",
              "      <td>0.051881</td>\n",
              "      <td>M</td>\n",
              "      <td>NAP</td>\n",
              "      <td>0.970901</td>\n",
              "      <td>-0.947888</td>\n",
              "      <td>0</td>\n",
              "      <td>Normal</td>\n",
              "      <td>-0.581981</td>\n",
              "      <td>N</td>\n",
              "      <td>-0.832432</td>\n",
              "      <td>Up</td>\n",
              "      <td>0</td>\n",
              "    </tr>\n",
              "  </tbody>\n",
              "</table>\n",
              "</div>\n",
              "      <button class=\"colab-df-convert\" onclick=\"convertToInteractive('df-d86e30c6-3a2e-4d5d-b643-53e6b5096582')\"\n",
              "              title=\"Convert this dataframe to an interactive table.\"\n",
              "              style=\"display:none;\">\n",
              "        \n",
              "  <svg xmlns=\"http://www.w3.org/2000/svg\" height=\"24px\"viewBox=\"0 0 24 24\"\n",
              "       width=\"24px\">\n",
              "    <path d=\"M0 0h24v24H0V0z\" fill=\"none\"/>\n",
              "    <path d=\"M18.56 5.44l.94 2.06.94-2.06 2.06-.94-2.06-.94-.94-2.06-.94 2.06-2.06.94zm-11 1L8.5 8.5l.94-2.06 2.06-.94-2.06-.94L8.5 2.5l-.94 2.06-2.06.94zm10 10l.94 2.06.94-2.06 2.06-.94-2.06-.94-.94-2.06-.94 2.06-2.06.94z\"/><path d=\"M17.41 7.96l-1.37-1.37c-.4-.4-.92-.59-1.43-.59-.52 0-1.04.2-1.43.59L10.3 9.45l-7.72 7.72c-.78.78-.78 2.05 0 2.83L4 21.41c.39.39.9.59 1.41.59.51 0 1.02-.2 1.41-.59l7.78-7.78 2.81-2.81c.8-.78.8-2.07 0-2.86zM5.41 20L4 18.59l7.72-7.72 1.47 1.35L5.41 20z\"/>\n",
              "  </svg>\n",
              "      </button>\n",
              "      \n",
              "  <style>\n",
              "    .colab-df-container {\n",
              "      display:flex;\n",
              "      flex-wrap:wrap;\n",
              "      gap: 12px;\n",
              "    }\n",
              "\n",
              "    .colab-df-convert {\n",
              "      background-color: #E8F0FE;\n",
              "      border: none;\n",
              "      border-radius: 50%;\n",
              "      cursor: pointer;\n",
              "      display: none;\n",
              "      fill: #1967D2;\n",
              "      height: 32px;\n",
              "      padding: 0 0 0 0;\n",
              "      width: 32px;\n",
              "    }\n",
              "\n",
              "    .colab-df-convert:hover {\n",
              "      background-color: #E2EBFA;\n",
              "      box-shadow: 0px 1px 2px rgba(60, 64, 67, 0.3), 0px 1px 3px 1px rgba(60, 64, 67, 0.15);\n",
              "      fill: #174EA6;\n",
              "    }\n",
              "\n",
              "    [theme=dark] .colab-df-convert {\n",
              "      background-color: #3B4455;\n",
              "      fill: #D2E3FC;\n",
              "    }\n",
              "\n",
              "    [theme=dark] .colab-df-convert:hover {\n",
              "      background-color: #434B5C;\n",
              "      box-shadow: 0px 1px 3px 1px rgba(0, 0, 0, 0.15);\n",
              "      filter: drop-shadow(0px 1px 2px rgba(0, 0, 0, 0.3));\n",
              "      fill: #FFFFFF;\n",
              "    }\n",
              "  </style>\n",
              "\n",
              "      <script>\n",
              "        const buttonEl =\n",
              "          document.querySelector('#df-d86e30c6-3a2e-4d5d-b643-53e6b5096582 button.colab-df-convert');\n",
              "        buttonEl.style.display =\n",
              "          google.colab.kernel.accessAllowed ? 'block' : 'none';\n",
              "\n",
              "        async function convertToInteractive(key) {\n",
              "          const element = document.querySelector('#df-d86e30c6-3a2e-4d5d-b643-53e6b5096582');\n",
              "          const dataTable =\n",
              "            await google.colab.kernel.invokeFunction('convertToInteractive',\n",
              "                                                     [key], {});\n",
              "          if (!dataTable) return;\n",
              "\n",
              "          const docLinkHtml = 'Like what you see? Visit the ' +\n",
              "            '<a target=\"_blank\" href=https://colab.research.google.com/notebooks/data_table.ipynb>data table notebook</a>'\n",
              "            + ' to learn more about interactive tables.';\n",
              "          element.innerHTML = '';\n",
              "          dataTable['output_type'] = 'display_data';\n",
              "          await google.colab.output.renderOutput(dataTable, element);\n",
              "          const docLink = document.createElement('div');\n",
              "          docLink.innerHTML = docLinkHtml;\n",
              "          element.appendChild(docLink);\n",
              "        }\n",
              "      </script>\n",
              "    </div>\n",
              "  </div>\n",
              "  "
            ]
          },
          "metadata": {},
          "execution_count": 13
        }
      ],
      "source": [
        "heart_normalisasi = normalisasi(heart_imputasi)\n",
        "heart_normalisasi.head()"
      ]
    },
    {
      "cell_type": "code",
      "execution_count": null,
      "metadata": {
        "colab": {
          "base_uri": "https://localhost:8080/",
          "height": 300
        },
        "id": "N2pbQoL_RKnr",
        "outputId": "49e94b35-17c8-4fa4-bf29-23fddbf55dca"
      },
      "outputs": [
        {
          "output_type": "execute_result",
          "data": {
            "text/plain": [
              "                Age     RestingBP   Cholesterol   FastingBS         MaxHR  \\\n",
              "count  9.180000e+02  9.180000e+02  9.180000e+02  918.000000  9.180000e+02   \n",
              "mean  -1.460947e-16 -5.494274e-16  2.101055e-14    0.233115  4.235295e-16   \n",
              "std    1.000545e+00  1.000545e+00  1.000545e+00    0.423046  1.000545e+00   \n",
              "min   -2.706015e+00 -2.922262e+00 -3.009670e+00    0.000000 -3.018469e+00   \n",
              "25%   -6.906294e-01 -6.975976e-01 -5.917623e-01    0.000000 -6.605778e-01   \n",
              "50%    5.188098e-02 -1.414316e-01  8.300258e-02    0.000000  4.678968e-02   \n",
              "75%    6.883185e-01  4.147345e-01  4.016416e-01    0.000000  7.541571e-01   \n",
              "max    2.491558e+00  3.751731e+00  6.699447e+00    1.000000  2.561874e+00   \n",
              "\n",
              "            Oldpeak  HeartDisease  \n",
              "count  9.180000e+02    918.000000  \n",
              "mean   1.935029e-17      0.553377  \n",
              "std    1.000545e+00      0.497414  \n",
              "min   -3.271482e+00      0.000000  \n",
              "25%   -8.324324e-01      0.000000  \n",
              "50%   -2.695748e-01      1.000000  \n",
              "75%    5.747115e-01      1.000000  \n",
              "max    4.983762e+00      1.000000  "
            ],
            "text/html": [
              "\n",
              "  <div id=\"df-aaa5985d-eb99-4b89-a0b3-1b02890c3178\">\n",
              "    <div class=\"colab-df-container\">\n",
              "      <div>\n",
              "<style scoped>\n",
              "    .dataframe tbody tr th:only-of-type {\n",
              "        vertical-align: middle;\n",
              "    }\n",
              "\n",
              "    .dataframe tbody tr th {\n",
              "        vertical-align: top;\n",
              "    }\n",
              "\n",
              "    .dataframe thead th {\n",
              "        text-align: right;\n",
              "    }\n",
              "</style>\n",
              "<table border=\"1\" class=\"dataframe\">\n",
              "  <thead>\n",
              "    <tr style=\"text-align: right;\">\n",
              "      <th></th>\n",
              "      <th>Age</th>\n",
              "      <th>RestingBP</th>\n",
              "      <th>Cholesterol</th>\n",
              "      <th>FastingBS</th>\n",
              "      <th>MaxHR</th>\n",
              "      <th>Oldpeak</th>\n",
              "      <th>HeartDisease</th>\n",
              "    </tr>\n",
              "  </thead>\n",
              "  <tbody>\n",
              "    <tr>\n",
              "      <th>count</th>\n",
              "      <td>9.180000e+02</td>\n",
              "      <td>9.180000e+02</td>\n",
              "      <td>9.180000e+02</td>\n",
              "      <td>918.000000</td>\n",
              "      <td>9.180000e+02</td>\n",
              "      <td>9.180000e+02</td>\n",
              "      <td>918.000000</td>\n",
              "    </tr>\n",
              "    <tr>\n",
              "      <th>mean</th>\n",
              "      <td>-1.460947e-16</td>\n",
              "      <td>-5.494274e-16</td>\n",
              "      <td>2.101055e-14</td>\n",
              "      <td>0.233115</td>\n",
              "      <td>4.235295e-16</td>\n",
              "      <td>1.935029e-17</td>\n",
              "      <td>0.553377</td>\n",
              "    </tr>\n",
              "    <tr>\n",
              "      <th>std</th>\n",
              "      <td>1.000545e+00</td>\n",
              "      <td>1.000545e+00</td>\n",
              "      <td>1.000545e+00</td>\n",
              "      <td>0.423046</td>\n",
              "      <td>1.000545e+00</td>\n",
              "      <td>1.000545e+00</td>\n",
              "      <td>0.497414</td>\n",
              "    </tr>\n",
              "    <tr>\n",
              "      <th>min</th>\n",
              "      <td>-2.706015e+00</td>\n",
              "      <td>-2.922262e+00</td>\n",
              "      <td>-3.009670e+00</td>\n",
              "      <td>0.000000</td>\n",
              "      <td>-3.018469e+00</td>\n",
              "      <td>-3.271482e+00</td>\n",
              "      <td>0.000000</td>\n",
              "    </tr>\n",
              "    <tr>\n",
              "      <th>25%</th>\n",
              "      <td>-6.906294e-01</td>\n",
              "      <td>-6.975976e-01</td>\n",
              "      <td>-5.917623e-01</td>\n",
              "      <td>0.000000</td>\n",
              "      <td>-6.605778e-01</td>\n",
              "      <td>-8.324324e-01</td>\n",
              "      <td>0.000000</td>\n",
              "    </tr>\n",
              "    <tr>\n",
              "      <th>50%</th>\n",
              "      <td>5.188098e-02</td>\n",
              "      <td>-1.414316e-01</td>\n",
              "      <td>8.300258e-02</td>\n",
              "      <td>0.000000</td>\n",
              "      <td>4.678968e-02</td>\n",
              "      <td>-2.695748e-01</td>\n",
              "      <td>1.000000</td>\n",
              "    </tr>\n",
              "    <tr>\n",
              "      <th>75%</th>\n",
              "      <td>6.883185e-01</td>\n",
              "      <td>4.147345e-01</td>\n",
              "      <td>4.016416e-01</td>\n",
              "      <td>0.000000</td>\n",
              "      <td>7.541571e-01</td>\n",
              "      <td>5.747115e-01</td>\n",
              "      <td>1.000000</td>\n",
              "    </tr>\n",
              "    <tr>\n",
              "      <th>max</th>\n",
              "      <td>2.491558e+00</td>\n",
              "      <td>3.751731e+00</td>\n",
              "      <td>6.699447e+00</td>\n",
              "      <td>1.000000</td>\n",
              "      <td>2.561874e+00</td>\n",
              "      <td>4.983762e+00</td>\n",
              "      <td>1.000000</td>\n",
              "    </tr>\n",
              "  </tbody>\n",
              "</table>\n",
              "</div>\n",
              "      <button class=\"colab-df-convert\" onclick=\"convertToInteractive('df-aaa5985d-eb99-4b89-a0b3-1b02890c3178')\"\n",
              "              title=\"Convert this dataframe to an interactive table.\"\n",
              "              style=\"display:none;\">\n",
              "        \n",
              "  <svg xmlns=\"http://www.w3.org/2000/svg\" height=\"24px\"viewBox=\"0 0 24 24\"\n",
              "       width=\"24px\">\n",
              "    <path d=\"M0 0h24v24H0V0z\" fill=\"none\"/>\n",
              "    <path d=\"M18.56 5.44l.94 2.06.94-2.06 2.06-.94-2.06-.94-.94-2.06-.94 2.06-2.06.94zm-11 1L8.5 8.5l.94-2.06 2.06-.94-2.06-.94L8.5 2.5l-.94 2.06-2.06.94zm10 10l.94 2.06.94-2.06 2.06-.94-2.06-.94-.94-2.06-.94 2.06-2.06.94z\"/><path d=\"M17.41 7.96l-1.37-1.37c-.4-.4-.92-.59-1.43-.59-.52 0-1.04.2-1.43.59L10.3 9.45l-7.72 7.72c-.78.78-.78 2.05 0 2.83L4 21.41c.39.39.9.59 1.41.59.51 0 1.02-.2 1.41-.59l7.78-7.78 2.81-2.81c.8-.78.8-2.07 0-2.86zM5.41 20L4 18.59l7.72-7.72 1.47 1.35L5.41 20z\"/>\n",
              "  </svg>\n",
              "      </button>\n",
              "      \n",
              "  <style>\n",
              "    .colab-df-container {\n",
              "      display:flex;\n",
              "      flex-wrap:wrap;\n",
              "      gap: 12px;\n",
              "    }\n",
              "\n",
              "    .colab-df-convert {\n",
              "      background-color: #E8F0FE;\n",
              "      border: none;\n",
              "      border-radius: 50%;\n",
              "      cursor: pointer;\n",
              "      display: none;\n",
              "      fill: #1967D2;\n",
              "      height: 32px;\n",
              "      padding: 0 0 0 0;\n",
              "      width: 32px;\n",
              "    }\n",
              "\n",
              "    .colab-df-convert:hover {\n",
              "      background-color: #E2EBFA;\n",
              "      box-shadow: 0px 1px 2px rgba(60, 64, 67, 0.3), 0px 1px 3px 1px rgba(60, 64, 67, 0.15);\n",
              "      fill: #174EA6;\n",
              "    }\n",
              "\n",
              "    [theme=dark] .colab-df-convert {\n",
              "      background-color: #3B4455;\n",
              "      fill: #D2E3FC;\n",
              "    }\n",
              "\n",
              "    [theme=dark] .colab-df-convert:hover {\n",
              "      background-color: #434B5C;\n",
              "      box-shadow: 0px 1px 3px 1px rgba(0, 0, 0, 0.15);\n",
              "      filter: drop-shadow(0px 1px 2px rgba(0, 0, 0, 0.3));\n",
              "      fill: #FFFFFF;\n",
              "    }\n",
              "  </style>\n",
              "\n",
              "      <script>\n",
              "        const buttonEl =\n",
              "          document.querySelector('#df-aaa5985d-eb99-4b89-a0b3-1b02890c3178 button.colab-df-convert');\n",
              "        buttonEl.style.display =\n",
              "          google.colab.kernel.accessAllowed ? 'block' : 'none';\n",
              "\n",
              "        async function convertToInteractive(key) {\n",
              "          const element = document.querySelector('#df-aaa5985d-eb99-4b89-a0b3-1b02890c3178');\n",
              "          const dataTable =\n",
              "            await google.colab.kernel.invokeFunction('convertToInteractive',\n",
              "                                                     [key], {});\n",
              "          if (!dataTable) return;\n",
              "\n",
              "          const docLinkHtml = 'Like what you see? Visit the ' +\n",
              "            '<a target=\"_blank\" href=https://colab.research.google.com/notebooks/data_table.ipynb>data table notebook</a>'\n",
              "            + ' to learn more about interactive tables.';\n",
              "          element.innerHTML = '';\n",
              "          dataTable['output_type'] = 'display_data';\n",
              "          await google.colab.output.renderOutput(dataTable, element);\n",
              "          const docLink = document.createElement('div');\n",
              "          docLink.innerHTML = docLinkHtml;\n",
              "          element.appendChild(docLink);\n",
              "        }\n",
              "      </script>\n",
              "    </div>\n",
              "  </div>\n",
              "  "
            ]
          },
          "metadata": {},
          "execution_count": 14
        }
      ],
      "source": [
        "heart_normalisasi.describe()"
      ]
    },
    {
      "cell_type": "markdown",
      "metadata": {
        "id": "e-jmlDEkRi68"
      },
      "source": [
        "##CONVERT DATA"
      ]
    },
    {
      "cell_type": "code",
      "execution_count": null,
      "metadata": {
        "colab": {
          "base_uri": "https://localhost:8080/"
        },
        "id": "VJwLHNW5sdUg",
        "outputId": "c9354c40-ad61-4717-ade8-14c8e3506e2f"
      },
      "outputs": [
        {
          "output_type": "execute_result",
          "data": {
            "text/plain": [
              "Age               float64\n",
              "Sex                object\n",
              "ChestPainType      object\n",
              "RestingBP         float64\n",
              "Cholesterol       float64\n",
              "FastingBS           int64\n",
              "RestingECG         object\n",
              "MaxHR             float64\n",
              "ExerciseAngina     object\n",
              "Oldpeak           float64\n",
              "ST_Slope           object\n",
              "HeartDisease        int64\n",
              "dtype: object"
            ]
          },
          "metadata": {},
          "execution_count": 15
        }
      ],
      "source": [
        "#Check tipe data\n",
        "heart_normalisasi.dtypes"
      ]
    },
    {
      "cell_type": "markdown",
      "metadata": {
        "id": "7000it8VS4_f"
      },
      "source": [
        "Mengganti nilai Label menjadi Negative dan Positive agar lebih mudah dibaca"
      ]
    },
    {
      "cell_type": "code",
      "execution_count": null,
      "metadata": {
        "id": "NGIldexbxfrk"
      },
      "outputs": [],
      "source": [
        "heart_convert = heart_normalisasi.copy()\n",
        "heart_convert['HeartDisease'] = heart_convert['HeartDisease'].replace([0],'Negative')\n",
        "heart_convert['HeartDisease'] = heart_convert['HeartDisease'].replace([1],'Positive')\n",
        "heart_label = heart_convert.pop('HeartDisease')"
      ]
    },
    {
      "cell_type": "markdown",
      "metadata": {
        "id": "6k89335GR--J"
      },
      "source": [
        "###Label Encoding\n",
        "Untuk data dengan jumlah kategori 2, digunakan LabelEncoder "
      ]
    },
    {
      "cell_type": "code",
      "execution_count": null,
      "metadata": {
        "colab": {
          "base_uri": "https://localhost:8080/"
        },
        "id": "197ZrWDCuD7W",
        "outputId": "98932fa1-5c31-4791-8219-1c31d49d5891"
      },
      "outputs": [
        {
          "output_type": "execute_result",
          "data": {
            "text/plain": [
              "        Age  Sex ChestPainType  RestingBP  Cholesterol  FastingBS RestingECG  \\\n",
              "0 -1.433140    1           ATA   0.414735     0.813998          0     Normal   \n",
              "1 -0.478484    0           NAP   1.527067    -1.229040          0     Normal   \n",
              "2 -1.751359    1           ATA  -0.141432     0.701537          0         ST   \n",
              "3 -0.584556    0           ASY   0.303501    -0.591762          0     Normal   \n",
              "4  0.051881    1           NAP   0.970901    -0.947888          0     Normal   \n",
              "\n",
              "      MaxHR  ExerciseAngina   Oldpeak ST_Slope  \n",
              "0  1.382928               0 -0.832432       Up  \n",
              "1  0.754157               0  0.105664     Flat  \n",
              "2 -1.525138               0 -0.832432       Up  \n",
              "3 -1.132156               1  0.574711     Flat  \n",
              "4 -0.581981               0 -0.832432       Up  "
            ],
            "text/html": [
              "\n",
              "  <div id=\"df-abcce2bf-d875-4dfd-bc4b-45a9af5fd0e7\">\n",
              "    <div class=\"colab-df-container\">\n",
              "      <div>\n",
              "<style scoped>\n",
              "    .dataframe tbody tr th:only-of-type {\n",
              "        vertical-align: middle;\n",
              "    }\n",
              "\n",
              "    .dataframe tbody tr th {\n",
              "        vertical-align: top;\n",
              "    }\n",
              "\n",
              "    .dataframe thead th {\n",
              "        text-align: right;\n",
              "    }\n",
              "</style>\n",
              "<table border=\"1\" class=\"dataframe\">\n",
              "  <thead>\n",
              "    <tr style=\"text-align: right;\">\n",
              "      <th></th>\n",
              "      <th>Age</th>\n",
              "      <th>Sex</th>\n",
              "      <th>ChestPainType</th>\n",
              "      <th>RestingBP</th>\n",
              "      <th>Cholesterol</th>\n",
              "      <th>FastingBS</th>\n",
              "      <th>RestingECG</th>\n",
              "      <th>MaxHR</th>\n",
              "      <th>ExerciseAngina</th>\n",
              "      <th>Oldpeak</th>\n",
              "      <th>ST_Slope</th>\n",
              "    </tr>\n",
              "  </thead>\n",
              "  <tbody>\n",
              "    <tr>\n",
              "      <th>0</th>\n",
              "      <td>-1.433140</td>\n",
              "      <td>1</td>\n",
              "      <td>ATA</td>\n",
              "      <td>0.414735</td>\n",
              "      <td>0.813998</td>\n",
              "      <td>0</td>\n",
              "      <td>Normal</td>\n",
              "      <td>1.382928</td>\n",
              "      <td>0</td>\n",
              "      <td>-0.832432</td>\n",
              "      <td>Up</td>\n",
              "    </tr>\n",
              "    <tr>\n",
              "      <th>1</th>\n",
              "      <td>-0.478484</td>\n",
              "      <td>0</td>\n",
              "      <td>NAP</td>\n",
              "      <td>1.527067</td>\n",
              "      <td>-1.229040</td>\n",
              "      <td>0</td>\n",
              "      <td>Normal</td>\n",
              "      <td>0.754157</td>\n",
              "      <td>0</td>\n",
              "      <td>0.105664</td>\n",
              "      <td>Flat</td>\n",
              "    </tr>\n",
              "    <tr>\n",
              "      <th>2</th>\n",
              "      <td>-1.751359</td>\n",
              "      <td>1</td>\n",
              "      <td>ATA</td>\n",
              "      <td>-0.141432</td>\n",
              "      <td>0.701537</td>\n",
              "      <td>0</td>\n",
              "      <td>ST</td>\n",
              "      <td>-1.525138</td>\n",
              "      <td>0</td>\n",
              "      <td>-0.832432</td>\n",
              "      <td>Up</td>\n",
              "    </tr>\n",
              "    <tr>\n",
              "      <th>3</th>\n",
              "      <td>-0.584556</td>\n",
              "      <td>0</td>\n",
              "      <td>ASY</td>\n",
              "      <td>0.303501</td>\n",
              "      <td>-0.591762</td>\n",
              "      <td>0</td>\n",
              "      <td>Normal</td>\n",
              "      <td>-1.132156</td>\n",
              "      <td>1</td>\n",
              "      <td>0.574711</td>\n",
              "      <td>Flat</td>\n",
              "    </tr>\n",
              "    <tr>\n",
              "      <th>4</th>\n",
              "      <td>0.051881</td>\n",
              "      <td>1</td>\n",
              "      <td>NAP</td>\n",
              "      <td>0.970901</td>\n",
              "      <td>-0.947888</td>\n",
              "      <td>0</td>\n",
              "      <td>Normal</td>\n",
              "      <td>-0.581981</td>\n",
              "      <td>0</td>\n",
              "      <td>-0.832432</td>\n",
              "      <td>Up</td>\n",
              "    </tr>\n",
              "  </tbody>\n",
              "</table>\n",
              "</div>\n",
              "      <button class=\"colab-df-convert\" onclick=\"convertToInteractive('df-abcce2bf-d875-4dfd-bc4b-45a9af5fd0e7')\"\n",
              "              title=\"Convert this dataframe to an interactive table.\"\n",
              "              style=\"display:none;\">\n",
              "        \n",
              "  <svg xmlns=\"http://www.w3.org/2000/svg\" height=\"24px\"viewBox=\"0 0 24 24\"\n",
              "       width=\"24px\">\n",
              "    <path d=\"M0 0h24v24H0V0z\" fill=\"none\"/>\n",
              "    <path d=\"M18.56 5.44l.94 2.06.94-2.06 2.06-.94-2.06-.94-.94-2.06-.94 2.06-2.06.94zm-11 1L8.5 8.5l.94-2.06 2.06-.94-2.06-.94L8.5 2.5l-.94 2.06-2.06.94zm10 10l.94 2.06.94-2.06 2.06-.94-2.06-.94-.94-2.06-.94 2.06-2.06.94z\"/><path d=\"M17.41 7.96l-1.37-1.37c-.4-.4-.92-.59-1.43-.59-.52 0-1.04.2-1.43.59L10.3 9.45l-7.72 7.72c-.78.78-.78 2.05 0 2.83L4 21.41c.39.39.9.59 1.41.59.51 0 1.02-.2 1.41-.59l7.78-7.78 2.81-2.81c.8-.78.8-2.07 0-2.86zM5.41 20L4 18.59l7.72-7.72 1.47 1.35L5.41 20z\"/>\n",
              "  </svg>\n",
              "      </button>\n",
              "      \n",
              "  <style>\n",
              "    .colab-df-container {\n",
              "      display:flex;\n",
              "      flex-wrap:wrap;\n",
              "      gap: 12px;\n",
              "    }\n",
              "\n",
              "    .colab-df-convert {\n",
              "      background-color: #E8F0FE;\n",
              "      border: none;\n",
              "      border-radius: 50%;\n",
              "      cursor: pointer;\n",
              "      display: none;\n",
              "      fill: #1967D2;\n",
              "      height: 32px;\n",
              "      padding: 0 0 0 0;\n",
              "      width: 32px;\n",
              "    }\n",
              "\n",
              "    .colab-df-convert:hover {\n",
              "      background-color: #E2EBFA;\n",
              "      box-shadow: 0px 1px 2px rgba(60, 64, 67, 0.3), 0px 1px 3px 1px rgba(60, 64, 67, 0.15);\n",
              "      fill: #174EA6;\n",
              "    }\n",
              "\n",
              "    [theme=dark] .colab-df-convert {\n",
              "      background-color: #3B4455;\n",
              "      fill: #D2E3FC;\n",
              "    }\n",
              "\n",
              "    [theme=dark] .colab-df-convert:hover {\n",
              "      background-color: #434B5C;\n",
              "      box-shadow: 0px 1px 3px 1px rgba(0, 0, 0, 0.15);\n",
              "      filter: drop-shadow(0px 1px 2px rgba(0, 0, 0, 0.3));\n",
              "      fill: #FFFFFF;\n",
              "    }\n",
              "  </style>\n",
              "\n",
              "      <script>\n",
              "        const buttonEl =\n",
              "          document.querySelector('#df-abcce2bf-d875-4dfd-bc4b-45a9af5fd0e7 button.colab-df-convert');\n",
              "        buttonEl.style.display =\n",
              "          google.colab.kernel.accessAllowed ? 'block' : 'none';\n",
              "\n",
              "        async function convertToInteractive(key) {\n",
              "          const element = document.querySelector('#df-abcce2bf-d875-4dfd-bc4b-45a9af5fd0e7');\n",
              "          const dataTable =\n",
              "            await google.colab.kernel.invokeFunction('convertToInteractive',\n",
              "                                                     [key], {});\n",
              "          if (!dataTable) return;\n",
              "\n",
              "          const docLinkHtml = 'Like what you see? Visit the ' +\n",
              "            '<a target=\"_blank\" href=https://colab.research.google.com/notebooks/data_table.ipynb>data table notebook</a>'\n",
              "            + ' to learn more about interactive tables.';\n",
              "          element.innerHTML = '';\n",
              "          dataTable['output_type'] = 'display_data';\n",
              "          await google.colab.output.renderOutput(dataTable, element);\n",
              "          const docLink = document.createElement('div');\n",
              "          docLink.innerHTML = docLinkHtml;\n",
              "          element.appendChild(docLink);\n",
              "        }\n",
              "      </script>\n",
              "    </div>\n",
              "  </div>\n",
              "  "
            ]
          },
          "metadata": {},
          "execution_count": 17
        }
      ],
      "source": [
        "# Importing LabelEncoder from Sklearn\n",
        "from sklearn.preprocessing import LabelEncoder\n",
        "\n",
        "# Creating a instance of label Encoder.\n",
        "le = LabelEncoder()\n",
        "# Using .fit_transform function to fit label\n",
        "# encoder and return encoded label\n",
        "label = le.fit_transform(heart_convert['ExerciseAngina'])\n",
        "label_sex = le.fit_transform(heart_convert['Sex'])\n",
        "heart_convert['ExerciseAngina'] = label\n",
        "heart_convert['Sex'] = label_sex\n",
        "heart_convert.head()\n"
      ]
    },
    {
      "cell_type": "markdown",
      "metadata": {
        "id": "E5sltCL-SMkS"
      },
      "source": [
        "###Dummy Variable Encoding\n",
        "Untuk data dengan jumlah kategori>2 digunakan metode Dummy Variable Encoding"
      ]
    },
    {
      "cell_type": "code",
      "execution_count": null,
      "metadata": {
        "colab": {
          "base_uri": "https://localhost:8080/"
        },
        "id": "N1GZP22JwLHZ",
        "outputId": "f1f9c310-f4bf-48f7-d958-b1c4b9182ff9"
      },
      "outputs": [
        {
          "output_type": "execute_result",
          "data": {
            "text/plain": [
              "        Age  Sex  RestingBP  Cholesterol  FastingBS     MaxHR  ExerciseAngina  \\\n",
              "0 -1.433140    1   0.414735     0.813998          0  1.382928               0   \n",
              "1 -0.478484    0   1.527067    -1.229040          0  0.754157               0   \n",
              "2 -1.751359    1  -0.141432     0.701537          0 -1.525138               0   \n",
              "3 -0.584556    0   0.303501    -0.591762          0 -1.132156               1   \n",
              "4  0.051881    1   0.970901    -0.947888          0 -0.581981               0   \n",
              "5 -1.539213    1  -0.697598     1.751171          0  1.304332               0   \n",
              "6 -0.902775    0  -0.141432    -0.160663          0  1.304332               0   \n",
              "7  0.051881    1  -1.253764    -0.704223          0  0.203982               0   \n",
              "8 -1.751359    1   0.414735    -0.722967          0 -0.267596               1   \n",
              "9 -0.584556    0  -0.697598     0.720281          0 -0.660578               0   \n",
              "\n",
              "    Oldpeak  Chest_ASY  Chest_ATA  Chest_NAP  Chest_TA  ECG_LVH  ECG_Normal  \\\n",
              "0 -0.832432          0          1          0         0        0           1   \n",
              "1  0.105664          0          0          1         0        0           1   \n",
              "2 -0.832432          0          1          0         0        0           0   \n",
              "3  0.574711          1          0          0         0        0           1   \n",
              "4 -0.832432          0          0          1         0        0           1   \n",
              "5 -0.832432          0          0          1         0        0           1   \n",
              "6 -0.832432          0          1          0         0        0           1   \n",
              "7 -0.832432          0          1          0         0        0           1   \n",
              "8  0.574711          1          0          0         0        0           1   \n",
              "9 -0.832432          0          1          0         0        0           1   \n",
              "\n",
              "   ECG_ST  ST_Down  ST_Flat  ST_Up  \n",
              "0       0        0        0      1  \n",
              "1       0        0        1      0  \n",
              "2       1        0        0      1  \n",
              "3       0        0        1      0  \n",
              "4       0        0        0      1  \n",
              "5       0        0        0      1  \n",
              "6       0        0        0      1  \n",
              "7       0        0        0      1  \n",
              "8       0        0        1      0  \n",
              "9       0        0        0      1  "
            ],
            "text/html": [
              "\n",
              "  <div id=\"df-6bcb720d-0bb5-4734-87b0-9ab22a67a5fd\">\n",
              "    <div class=\"colab-df-container\">\n",
              "      <div>\n",
              "<style scoped>\n",
              "    .dataframe tbody tr th:only-of-type {\n",
              "        vertical-align: middle;\n",
              "    }\n",
              "\n",
              "    .dataframe tbody tr th {\n",
              "        vertical-align: top;\n",
              "    }\n",
              "\n",
              "    .dataframe thead th {\n",
              "        text-align: right;\n",
              "    }\n",
              "</style>\n",
              "<table border=\"1\" class=\"dataframe\">\n",
              "  <thead>\n",
              "    <tr style=\"text-align: right;\">\n",
              "      <th></th>\n",
              "      <th>Age</th>\n",
              "      <th>Sex</th>\n",
              "      <th>RestingBP</th>\n",
              "      <th>Cholesterol</th>\n",
              "      <th>FastingBS</th>\n",
              "      <th>MaxHR</th>\n",
              "      <th>ExerciseAngina</th>\n",
              "      <th>Oldpeak</th>\n",
              "      <th>Chest_ASY</th>\n",
              "      <th>Chest_ATA</th>\n",
              "      <th>Chest_NAP</th>\n",
              "      <th>Chest_TA</th>\n",
              "      <th>ECG_LVH</th>\n",
              "      <th>ECG_Normal</th>\n",
              "      <th>ECG_ST</th>\n",
              "      <th>ST_Down</th>\n",
              "      <th>ST_Flat</th>\n",
              "      <th>ST_Up</th>\n",
              "    </tr>\n",
              "  </thead>\n",
              "  <tbody>\n",
              "    <tr>\n",
              "      <th>0</th>\n",
              "      <td>-1.433140</td>\n",
              "      <td>1</td>\n",
              "      <td>0.414735</td>\n",
              "      <td>0.813998</td>\n",
              "      <td>0</td>\n",
              "      <td>1.382928</td>\n",
              "      <td>0</td>\n",
              "      <td>-0.832432</td>\n",
              "      <td>0</td>\n",
              "      <td>1</td>\n",
              "      <td>0</td>\n",
              "      <td>0</td>\n",
              "      <td>0</td>\n",
              "      <td>1</td>\n",
              "      <td>0</td>\n",
              "      <td>0</td>\n",
              "      <td>0</td>\n",
              "      <td>1</td>\n",
              "    </tr>\n",
              "    <tr>\n",
              "      <th>1</th>\n",
              "      <td>-0.478484</td>\n",
              "      <td>0</td>\n",
              "      <td>1.527067</td>\n",
              "      <td>-1.229040</td>\n",
              "      <td>0</td>\n",
              "      <td>0.754157</td>\n",
              "      <td>0</td>\n",
              "      <td>0.105664</td>\n",
              "      <td>0</td>\n",
              "      <td>0</td>\n",
              "      <td>1</td>\n",
              "      <td>0</td>\n",
              "      <td>0</td>\n",
              "      <td>1</td>\n",
              "      <td>0</td>\n",
              "      <td>0</td>\n",
              "      <td>1</td>\n",
              "      <td>0</td>\n",
              "    </tr>\n",
              "    <tr>\n",
              "      <th>2</th>\n",
              "      <td>-1.751359</td>\n",
              "      <td>1</td>\n",
              "      <td>-0.141432</td>\n",
              "      <td>0.701537</td>\n",
              "      <td>0</td>\n",
              "      <td>-1.525138</td>\n",
              "      <td>0</td>\n",
              "      <td>-0.832432</td>\n",
              "      <td>0</td>\n",
              "      <td>1</td>\n",
              "      <td>0</td>\n",
              "      <td>0</td>\n",
              "      <td>0</td>\n",
              "      <td>0</td>\n",
              "      <td>1</td>\n",
              "      <td>0</td>\n",
              "      <td>0</td>\n",
              "      <td>1</td>\n",
              "    </tr>\n",
              "    <tr>\n",
              "      <th>3</th>\n",
              "      <td>-0.584556</td>\n",
              "      <td>0</td>\n",
              "      <td>0.303501</td>\n",
              "      <td>-0.591762</td>\n",
              "      <td>0</td>\n",
              "      <td>-1.132156</td>\n",
              "      <td>1</td>\n",
              "      <td>0.574711</td>\n",
              "      <td>1</td>\n",
              "      <td>0</td>\n",
              "      <td>0</td>\n",
              "      <td>0</td>\n",
              "      <td>0</td>\n",
              "      <td>1</td>\n",
              "      <td>0</td>\n",
              "      <td>0</td>\n",
              "      <td>1</td>\n",
              "      <td>0</td>\n",
              "    </tr>\n",
              "    <tr>\n",
              "      <th>4</th>\n",
              "      <td>0.051881</td>\n",
              "      <td>1</td>\n",
              "      <td>0.970901</td>\n",
              "      <td>-0.947888</td>\n",
              "      <td>0</td>\n",
              "      <td>-0.581981</td>\n",
              "      <td>0</td>\n",
              "      <td>-0.832432</td>\n",
              "      <td>0</td>\n",
              "      <td>0</td>\n",
              "      <td>1</td>\n",
              "      <td>0</td>\n",
              "      <td>0</td>\n",
              "      <td>1</td>\n",
              "      <td>0</td>\n",
              "      <td>0</td>\n",
              "      <td>0</td>\n",
              "      <td>1</td>\n",
              "    </tr>\n",
              "    <tr>\n",
              "      <th>5</th>\n",
              "      <td>-1.539213</td>\n",
              "      <td>1</td>\n",
              "      <td>-0.697598</td>\n",
              "      <td>1.751171</td>\n",
              "      <td>0</td>\n",
              "      <td>1.304332</td>\n",
              "      <td>0</td>\n",
              "      <td>-0.832432</td>\n",
              "      <td>0</td>\n",
              "      <td>0</td>\n",
              "      <td>1</td>\n",
              "      <td>0</td>\n",
              "      <td>0</td>\n",
              "      <td>1</td>\n",
              "      <td>0</td>\n",
              "      <td>0</td>\n",
              "      <td>0</td>\n",
              "      <td>1</td>\n",
              "    </tr>\n",
              "    <tr>\n",
              "      <th>6</th>\n",
              "      <td>-0.902775</td>\n",
              "      <td>0</td>\n",
              "      <td>-0.141432</td>\n",
              "      <td>-0.160663</td>\n",
              "      <td>0</td>\n",
              "      <td>1.304332</td>\n",
              "      <td>0</td>\n",
              "      <td>-0.832432</td>\n",
              "      <td>0</td>\n",
              "      <td>1</td>\n",
              "      <td>0</td>\n",
              "      <td>0</td>\n",
              "      <td>0</td>\n",
              "      <td>1</td>\n",
              "      <td>0</td>\n",
              "      <td>0</td>\n",
              "      <td>0</td>\n",
              "      <td>1</td>\n",
              "    </tr>\n",
              "    <tr>\n",
              "      <th>7</th>\n",
              "      <td>0.051881</td>\n",
              "      <td>1</td>\n",
              "      <td>-1.253764</td>\n",
              "      <td>-0.704223</td>\n",
              "      <td>0</td>\n",
              "      <td>0.203982</td>\n",
              "      <td>0</td>\n",
              "      <td>-0.832432</td>\n",
              "      <td>0</td>\n",
              "      <td>1</td>\n",
              "      <td>0</td>\n",
              "      <td>0</td>\n",
              "      <td>0</td>\n",
              "      <td>1</td>\n",
              "      <td>0</td>\n",
              "      <td>0</td>\n",
              "      <td>0</td>\n",
              "      <td>1</td>\n",
              "    </tr>\n",
              "    <tr>\n",
              "      <th>8</th>\n",
              "      <td>-1.751359</td>\n",
              "      <td>1</td>\n",
              "      <td>0.414735</td>\n",
              "      <td>-0.722967</td>\n",
              "      <td>0</td>\n",
              "      <td>-0.267596</td>\n",
              "      <td>1</td>\n",
              "      <td>0.574711</td>\n",
              "      <td>1</td>\n",
              "      <td>0</td>\n",
              "      <td>0</td>\n",
              "      <td>0</td>\n",
              "      <td>0</td>\n",
              "      <td>1</td>\n",
              "      <td>0</td>\n",
              "      <td>0</td>\n",
              "      <td>1</td>\n",
              "      <td>0</td>\n",
              "    </tr>\n",
              "    <tr>\n",
              "      <th>9</th>\n",
              "      <td>-0.584556</td>\n",
              "      <td>0</td>\n",
              "      <td>-0.697598</td>\n",
              "      <td>0.720281</td>\n",
              "      <td>0</td>\n",
              "      <td>-0.660578</td>\n",
              "      <td>0</td>\n",
              "      <td>-0.832432</td>\n",
              "      <td>0</td>\n",
              "      <td>1</td>\n",
              "      <td>0</td>\n",
              "      <td>0</td>\n",
              "      <td>0</td>\n",
              "      <td>1</td>\n",
              "      <td>0</td>\n",
              "      <td>0</td>\n",
              "      <td>0</td>\n",
              "      <td>1</td>\n",
              "    </tr>\n",
              "  </tbody>\n",
              "</table>\n",
              "</div>\n",
              "      <button class=\"colab-df-convert\" onclick=\"convertToInteractive('df-6bcb720d-0bb5-4734-87b0-9ab22a67a5fd')\"\n",
              "              title=\"Convert this dataframe to an interactive table.\"\n",
              "              style=\"display:none;\">\n",
              "        \n",
              "  <svg xmlns=\"http://www.w3.org/2000/svg\" height=\"24px\"viewBox=\"0 0 24 24\"\n",
              "       width=\"24px\">\n",
              "    <path d=\"M0 0h24v24H0V0z\" fill=\"none\"/>\n",
              "    <path d=\"M18.56 5.44l.94 2.06.94-2.06 2.06-.94-2.06-.94-.94-2.06-.94 2.06-2.06.94zm-11 1L8.5 8.5l.94-2.06 2.06-.94-2.06-.94L8.5 2.5l-.94 2.06-2.06.94zm10 10l.94 2.06.94-2.06 2.06-.94-2.06-.94-.94-2.06-.94 2.06-2.06.94z\"/><path d=\"M17.41 7.96l-1.37-1.37c-.4-.4-.92-.59-1.43-.59-.52 0-1.04.2-1.43.59L10.3 9.45l-7.72 7.72c-.78.78-.78 2.05 0 2.83L4 21.41c.39.39.9.59 1.41.59.51 0 1.02-.2 1.41-.59l7.78-7.78 2.81-2.81c.8-.78.8-2.07 0-2.86zM5.41 20L4 18.59l7.72-7.72 1.47 1.35L5.41 20z\"/>\n",
              "  </svg>\n",
              "      </button>\n",
              "      \n",
              "  <style>\n",
              "    .colab-df-container {\n",
              "      display:flex;\n",
              "      flex-wrap:wrap;\n",
              "      gap: 12px;\n",
              "    }\n",
              "\n",
              "    .colab-df-convert {\n",
              "      background-color: #E8F0FE;\n",
              "      border: none;\n",
              "      border-radius: 50%;\n",
              "      cursor: pointer;\n",
              "      display: none;\n",
              "      fill: #1967D2;\n",
              "      height: 32px;\n",
              "      padding: 0 0 0 0;\n",
              "      width: 32px;\n",
              "    }\n",
              "\n",
              "    .colab-df-convert:hover {\n",
              "      background-color: #E2EBFA;\n",
              "      box-shadow: 0px 1px 2px rgba(60, 64, 67, 0.3), 0px 1px 3px 1px rgba(60, 64, 67, 0.15);\n",
              "      fill: #174EA6;\n",
              "    }\n",
              "\n",
              "    [theme=dark] .colab-df-convert {\n",
              "      background-color: #3B4455;\n",
              "      fill: #D2E3FC;\n",
              "    }\n",
              "\n",
              "    [theme=dark] .colab-df-convert:hover {\n",
              "      background-color: #434B5C;\n",
              "      box-shadow: 0px 1px 3px 1px rgba(0, 0, 0, 0.15);\n",
              "      filter: drop-shadow(0px 1px 2px rgba(0, 0, 0, 0.3));\n",
              "      fill: #FFFFFF;\n",
              "    }\n",
              "  </style>\n",
              "\n",
              "      <script>\n",
              "        const buttonEl =\n",
              "          document.querySelector('#df-6bcb720d-0bb5-4734-87b0-9ab22a67a5fd button.colab-df-convert');\n",
              "        buttonEl.style.display =\n",
              "          google.colab.kernel.accessAllowed ? 'block' : 'none';\n",
              "\n",
              "        async function convertToInteractive(key) {\n",
              "          const element = document.querySelector('#df-6bcb720d-0bb5-4734-87b0-9ab22a67a5fd');\n",
              "          const dataTable =\n",
              "            await google.colab.kernel.invokeFunction('convertToInteractive',\n",
              "                                                     [key], {});\n",
              "          if (!dataTable) return;\n",
              "\n",
              "          const docLinkHtml = 'Like what you see? Visit the ' +\n",
              "            '<a target=\"_blank\" href=https://colab.research.google.com/notebooks/data_table.ipynb>data table notebook</a>'\n",
              "            + ' to learn more about interactive tables.';\n",
              "          element.innerHTML = '';\n",
              "          dataTable['output_type'] = 'display_data';\n",
              "          await google.colab.output.renderOutput(dataTable, element);\n",
              "          const docLink = document.createElement('div');\n",
              "          docLink.innerHTML = docLinkHtml;\n",
              "          element.appendChild(docLink);\n",
              "        }\n",
              "      </script>\n",
              "    </div>\n",
              "  </div>\n",
              "  "
            ]
          },
          "metadata": {},
          "execution_count": 18
        }
      ],
      "source": [
        "df = pd.get_dummies(heart_convert, columns=['ChestPainType', 'RestingECG', 'ST_Slope'], prefix=['Chest','ECG','ST'])\n",
        "df.head(10)"
      ]
    },
    {
      "cell_type": "code",
      "execution_count": null,
      "metadata": {
        "colab": {
          "base_uri": "https://localhost:8080/"
        },
        "id": "Rb84UpP-x2UA",
        "outputId": "3c715540-1a20-459a-d095-0cc4b291a5bc"
      },
      "outputs": [
        {
          "output_type": "execute_result",
          "data": {
            "text/plain": [
              "        Age  Sex  RestingBP  Cholesterol  FastingBS     MaxHR  ExerciseAngina  \\\n",
              "0 -1.433140    1   0.414735     0.813998          0  1.382928               0   \n",
              "1 -0.478484    0   1.527067    -1.229040          0  0.754157               0   \n",
              "2 -1.751359    1  -0.141432     0.701537          0 -1.525138               0   \n",
              "3 -0.584556    0   0.303501    -0.591762          0 -1.132156               1   \n",
              "4  0.051881    1   0.970901    -0.947888          0 -0.581981               0   \n",
              "\n",
              "    Oldpeak  Chest_ASY  Chest_ATA  Chest_NAP  Chest_TA  ECG_LVH  ECG_Normal  \\\n",
              "0 -0.832432          0          1          0         0        0           1   \n",
              "1  0.105664          0          0          1         0        0           1   \n",
              "2 -0.832432          0          1          0         0        0           0   \n",
              "3  0.574711          1          0          0         0        0           1   \n",
              "4 -0.832432          0          0          1         0        0           1   \n",
              "\n",
              "   ECG_ST  ST_Down  ST_Flat  ST_Up HeartDisease  \n",
              "0       0        0        0      1     Negative  \n",
              "1       0        0        1      0     Positive  \n",
              "2       1        0        0      1     Negative  \n",
              "3       0        0        1      0     Positive  \n",
              "4       0        0        0      1     Negative  "
            ],
            "text/html": [
              "\n",
              "  <div id=\"df-aee9639b-3769-4026-9435-526f5fc9f22c\">\n",
              "    <div class=\"colab-df-container\">\n",
              "      <div>\n",
              "<style scoped>\n",
              "    .dataframe tbody tr th:only-of-type {\n",
              "        vertical-align: middle;\n",
              "    }\n",
              "\n",
              "    .dataframe tbody tr th {\n",
              "        vertical-align: top;\n",
              "    }\n",
              "\n",
              "    .dataframe thead th {\n",
              "        text-align: right;\n",
              "    }\n",
              "</style>\n",
              "<table border=\"1\" class=\"dataframe\">\n",
              "  <thead>\n",
              "    <tr style=\"text-align: right;\">\n",
              "      <th></th>\n",
              "      <th>Age</th>\n",
              "      <th>Sex</th>\n",
              "      <th>RestingBP</th>\n",
              "      <th>Cholesterol</th>\n",
              "      <th>FastingBS</th>\n",
              "      <th>MaxHR</th>\n",
              "      <th>ExerciseAngina</th>\n",
              "      <th>Oldpeak</th>\n",
              "      <th>Chest_ASY</th>\n",
              "      <th>Chest_ATA</th>\n",
              "      <th>Chest_NAP</th>\n",
              "      <th>Chest_TA</th>\n",
              "      <th>ECG_LVH</th>\n",
              "      <th>ECG_Normal</th>\n",
              "      <th>ECG_ST</th>\n",
              "      <th>ST_Down</th>\n",
              "      <th>ST_Flat</th>\n",
              "      <th>ST_Up</th>\n",
              "      <th>HeartDisease</th>\n",
              "    </tr>\n",
              "  </thead>\n",
              "  <tbody>\n",
              "    <tr>\n",
              "      <th>0</th>\n",
              "      <td>-1.433140</td>\n",
              "      <td>1</td>\n",
              "      <td>0.414735</td>\n",
              "      <td>0.813998</td>\n",
              "      <td>0</td>\n",
              "      <td>1.382928</td>\n",
              "      <td>0</td>\n",
              "      <td>-0.832432</td>\n",
              "      <td>0</td>\n",
              "      <td>1</td>\n",
              "      <td>0</td>\n",
              "      <td>0</td>\n",
              "      <td>0</td>\n",
              "      <td>1</td>\n",
              "      <td>0</td>\n",
              "      <td>0</td>\n",
              "      <td>0</td>\n",
              "      <td>1</td>\n",
              "      <td>Negative</td>\n",
              "    </tr>\n",
              "    <tr>\n",
              "      <th>1</th>\n",
              "      <td>-0.478484</td>\n",
              "      <td>0</td>\n",
              "      <td>1.527067</td>\n",
              "      <td>-1.229040</td>\n",
              "      <td>0</td>\n",
              "      <td>0.754157</td>\n",
              "      <td>0</td>\n",
              "      <td>0.105664</td>\n",
              "      <td>0</td>\n",
              "      <td>0</td>\n",
              "      <td>1</td>\n",
              "      <td>0</td>\n",
              "      <td>0</td>\n",
              "      <td>1</td>\n",
              "      <td>0</td>\n",
              "      <td>0</td>\n",
              "      <td>1</td>\n",
              "      <td>0</td>\n",
              "      <td>Positive</td>\n",
              "    </tr>\n",
              "    <tr>\n",
              "      <th>2</th>\n",
              "      <td>-1.751359</td>\n",
              "      <td>1</td>\n",
              "      <td>-0.141432</td>\n",
              "      <td>0.701537</td>\n",
              "      <td>0</td>\n",
              "      <td>-1.525138</td>\n",
              "      <td>0</td>\n",
              "      <td>-0.832432</td>\n",
              "      <td>0</td>\n",
              "      <td>1</td>\n",
              "      <td>0</td>\n",
              "      <td>0</td>\n",
              "      <td>0</td>\n",
              "      <td>0</td>\n",
              "      <td>1</td>\n",
              "      <td>0</td>\n",
              "      <td>0</td>\n",
              "      <td>1</td>\n",
              "      <td>Negative</td>\n",
              "    </tr>\n",
              "    <tr>\n",
              "      <th>3</th>\n",
              "      <td>-0.584556</td>\n",
              "      <td>0</td>\n",
              "      <td>0.303501</td>\n",
              "      <td>-0.591762</td>\n",
              "      <td>0</td>\n",
              "      <td>-1.132156</td>\n",
              "      <td>1</td>\n",
              "      <td>0.574711</td>\n",
              "      <td>1</td>\n",
              "      <td>0</td>\n",
              "      <td>0</td>\n",
              "      <td>0</td>\n",
              "      <td>0</td>\n",
              "      <td>1</td>\n",
              "      <td>0</td>\n",
              "      <td>0</td>\n",
              "      <td>1</td>\n",
              "      <td>0</td>\n",
              "      <td>Positive</td>\n",
              "    </tr>\n",
              "    <tr>\n",
              "      <th>4</th>\n",
              "      <td>0.051881</td>\n",
              "      <td>1</td>\n",
              "      <td>0.970901</td>\n",
              "      <td>-0.947888</td>\n",
              "      <td>0</td>\n",
              "      <td>-0.581981</td>\n",
              "      <td>0</td>\n",
              "      <td>-0.832432</td>\n",
              "      <td>0</td>\n",
              "      <td>0</td>\n",
              "      <td>1</td>\n",
              "      <td>0</td>\n",
              "      <td>0</td>\n",
              "      <td>1</td>\n",
              "      <td>0</td>\n",
              "      <td>0</td>\n",
              "      <td>0</td>\n",
              "      <td>1</td>\n",
              "      <td>Negative</td>\n",
              "    </tr>\n",
              "  </tbody>\n",
              "</table>\n",
              "</div>\n",
              "      <button class=\"colab-df-convert\" onclick=\"convertToInteractive('df-aee9639b-3769-4026-9435-526f5fc9f22c')\"\n",
              "              title=\"Convert this dataframe to an interactive table.\"\n",
              "              style=\"display:none;\">\n",
              "        \n",
              "  <svg xmlns=\"http://www.w3.org/2000/svg\" height=\"24px\"viewBox=\"0 0 24 24\"\n",
              "       width=\"24px\">\n",
              "    <path d=\"M0 0h24v24H0V0z\" fill=\"none\"/>\n",
              "    <path d=\"M18.56 5.44l.94 2.06.94-2.06 2.06-.94-2.06-.94-.94-2.06-.94 2.06-2.06.94zm-11 1L8.5 8.5l.94-2.06 2.06-.94-2.06-.94L8.5 2.5l-.94 2.06-2.06.94zm10 10l.94 2.06.94-2.06 2.06-.94-2.06-.94-.94-2.06-.94 2.06-2.06.94z\"/><path d=\"M17.41 7.96l-1.37-1.37c-.4-.4-.92-.59-1.43-.59-.52 0-1.04.2-1.43.59L10.3 9.45l-7.72 7.72c-.78.78-.78 2.05 0 2.83L4 21.41c.39.39.9.59 1.41.59.51 0 1.02-.2 1.41-.59l7.78-7.78 2.81-2.81c.8-.78.8-2.07 0-2.86zM5.41 20L4 18.59l7.72-7.72 1.47 1.35L5.41 20z\"/>\n",
              "  </svg>\n",
              "      </button>\n",
              "      \n",
              "  <style>\n",
              "    .colab-df-container {\n",
              "      display:flex;\n",
              "      flex-wrap:wrap;\n",
              "      gap: 12px;\n",
              "    }\n",
              "\n",
              "    .colab-df-convert {\n",
              "      background-color: #E8F0FE;\n",
              "      border: none;\n",
              "      border-radius: 50%;\n",
              "      cursor: pointer;\n",
              "      display: none;\n",
              "      fill: #1967D2;\n",
              "      height: 32px;\n",
              "      padding: 0 0 0 0;\n",
              "      width: 32px;\n",
              "    }\n",
              "\n",
              "    .colab-df-convert:hover {\n",
              "      background-color: #E2EBFA;\n",
              "      box-shadow: 0px 1px 2px rgba(60, 64, 67, 0.3), 0px 1px 3px 1px rgba(60, 64, 67, 0.15);\n",
              "      fill: #174EA6;\n",
              "    }\n",
              "\n",
              "    [theme=dark] .colab-df-convert {\n",
              "      background-color: #3B4455;\n",
              "      fill: #D2E3FC;\n",
              "    }\n",
              "\n",
              "    [theme=dark] .colab-df-convert:hover {\n",
              "      background-color: #434B5C;\n",
              "      box-shadow: 0px 1px 3px 1px rgba(0, 0, 0, 0.15);\n",
              "      filter: drop-shadow(0px 1px 2px rgba(0, 0, 0, 0.3));\n",
              "      fill: #FFFFFF;\n",
              "    }\n",
              "  </style>\n",
              "\n",
              "      <script>\n",
              "        const buttonEl =\n",
              "          document.querySelector('#df-aee9639b-3769-4026-9435-526f5fc9f22c button.colab-df-convert');\n",
              "        buttonEl.style.display =\n",
              "          google.colab.kernel.accessAllowed ? 'block' : 'none';\n",
              "\n",
              "        async function convertToInteractive(key) {\n",
              "          const element = document.querySelector('#df-aee9639b-3769-4026-9435-526f5fc9f22c');\n",
              "          const dataTable =\n",
              "            await google.colab.kernel.invokeFunction('convertToInteractive',\n",
              "                                                     [key], {});\n",
              "          if (!dataTable) return;\n",
              "\n",
              "          const docLinkHtml = 'Like what you see? Visit the ' +\n",
              "            '<a target=\"_blank\" href=https://colab.research.google.com/notebooks/data_table.ipynb>data table notebook</a>'\n",
              "            + ' to learn more about interactive tables.';\n",
              "          element.innerHTML = '';\n",
              "          dataTable['output_type'] = 'display_data';\n",
              "          await google.colab.output.renderOutput(dataTable, element);\n",
              "          const docLink = document.createElement('div');\n",
              "          docLink.innerHTML = docLinkHtml;\n",
              "          element.appendChild(docLink);\n",
              "        }\n",
              "      </script>\n",
              "    </div>\n",
              "  </div>\n",
              "  "
            ]
          },
          "metadata": {},
          "execution_count": 19
        }
      ],
      "source": [
        "##Menggabungkan kembali label dengan data yang di convert\n",
        "heart_finish = pd.concat([df, heart_label],axis = 1)\n",
        "heart_finish.head()"
      ]
    },
    {
      "cell_type": "markdown",
      "metadata": {
        "id": "sUT3toJWTBDu"
      },
      "source": []
    },
    {
      "cell_type": "markdown",
      "metadata": {
        "id": "KMmiQzN0TZLg"
      },
      "source": [
        "#Implementasi "
      ]
    },
    {
      "cell_type": "code",
      "execution_count": null,
      "metadata": {
        "id": "tmwK0B8RVDRv"
      },
      "outputs": [],
      "source": [
        "#Metode untuk mengecek akurasi\n",
        "def accuration(label_uji, prediksi):\n",
        "  sum = 0;\n",
        "  for k in range(label_uji.shape[0]):\n",
        "    if prediksi[k]==label_uji.iloc[k]:\n",
        "      sum = sum+1\n",
        "\n",
        "  akurasi = (sum/label_uji.shape[0]) * 100\n",
        "  return akurasi"
      ]
    },
    {
      "cell_type": "markdown",
      "metadata": {
        "id": "D39S70oZTdlx"
      },
      "source": [
        "##Split Data Latih & Uji"
      ]
    },
    {
      "cell_type": "code",
      "execution_count": null,
      "metadata": {
        "id": "eqyCbB8eTvvl"
      },
      "outputs": [],
      "source": [
        "##Dari 950 data diambil 400 sampel\n",
        "df_heart = heart_finish.sample(n=400, random_state=42)"
      ]
    },
    {
      "cell_type": "code",
      "execution_count": null,
      "metadata": {
        "id": "acfsSsBy8mmc"
      },
      "outputs": [],
      "source": [
        "##Bagi data latih 75% dan data uji 25%\n",
        "#data latih = 300; data uji = 100\n",
        "from sklearn.model_selection import train_test_split\n",
        "data_latih, data_uji = train_test_split(df_heart, test_size=0.25, random_state=101)"
      ]
    },
    {
      "cell_type": "code",
      "execution_count": null,
      "metadata": {
        "id": "G81oJ4kN9Wmy"
      },
      "outputs": [],
      "source": [
        "##Membuat Label data\n",
        "label_latih = data_latih.pop('HeartDisease')\n",
        "label_uji = data_uji.pop('HeartDisease')"
      ]
    },
    {
      "cell_type": "markdown",
      "metadata": {
        "id": "5QmbcUAKUfAg"
      },
      "source": [
        "##Euclidean Distance"
      ]
    },
    {
      "cell_type": "code",
      "execution_count": null,
      "metadata": {
        "id": "TOavDLznldPw"
      },
      "outputs": [],
      "source": [
        "#Euclidean Distance\n",
        "def jarakEu(data1, data2):\n",
        "  jarak = np.square(data1-data2)\n",
        "  jarak = np.sum(jarak)\n",
        "  return np.sqrt(jarak)"
      ]
    },
    {
      "cell_type": "code",
      "execution_count": null,
      "metadata": {
        "id": "qmJ6FNASUgZ4"
      },
      "outputs": [],
      "source": [
        "##KNN\n",
        "from collections import Counter\n",
        "\n",
        "def knn(k, datalatih, labellatih, datauji):\n",
        "  jarak = np.array([jarakEu(datalatih.iloc[x], datauji) for x in range (datalatih.shape[0])])\n",
        "  indeks_k_minimum = jarak.argsort()[:k] ##ini ngambil indeks kelasnya\n",
        "  k_kelas = labellatih.iloc[indeks_k_minimum].to_numpy() #ini ngambil kelasnya berdasarkan indeks_k_minimum\n",
        "  counter = Counter(k_kelas) ##ini buat ngitung nilai jumlah berapa kali muncul kelasnya.\n",
        "  kelas_uji = counter.most_common(1)[0][0]\n",
        "  return kelas_uji"
      ]
    },
    {
      "cell_type": "code",
      "execution_count": null,
      "metadata": {
        "id": "6acXKjt2ZOk6"
      },
      "outputs": [],
      "source": [
        "#KNN MUlTI\n",
        "def knn_multi(k, datalatih, labellatih, datauji):\n",
        "  kelas_hasil = []\n",
        "  for i in range(datauji.shape[0]):\n",
        "    kelas_hasil.append(knn(k, datalatih, labellatih, datauji.iloc[i]))\n",
        "  return kelas_hasil"
      ]
    },
    {
      "cell_type": "markdown",
      "metadata": {
        "id": "b-fY_ZGmYcIB"
      },
      "source": [
        "##Fuzzy"
      ]
    },
    {
      "cell_type": "markdown",
      "metadata": {
        "id": "HN6oeWvoZTVy"
      },
      "source": [
        "###Inisialisasi Fuzzi"
      ]
    },
    {
      "cell_type": "code",
      "execution_count": null,
      "metadata": {
        "id": "5kBWZNOPA4ZH"
      },
      "outputs": [],
      "source": [
        "def inisialisasi(label_latih):\n",
        "  ##INI PERBAIKI LAGI MISALNYA GAK ADA KEY POSITIVE GIMANA?\n",
        "  inisialisasi = {}\n",
        "  counter = Counter(label_latih)\n",
        "  k = label_latih.shape[0]\n",
        "  for key,value in counter.items():\n",
        "    U1 = 0.51 + (value/k) * 0.49\n",
        "    U0 = (value/k) * 0.49\n",
        "    inisialisasi[key+'1'] = U1\n",
        "    inisialisasi[key+'0'] = U0\n",
        "  return inisialisasi"
      ]
    },
    {
      "cell_type": "code",
      "execution_count": null,
      "metadata": {
        "colab": {
          "base_uri": "https://localhost:8080/"
        },
        "id": "K8uAEQTOB21M",
        "outputId": "d980f40b-09ff-4804-bda4-07e0b1f9f444"
      },
      "outputs": [
        {
          "output_type": "execute_result",
          "data": {
            "text/plain": [
              "Counter({'Negative': 123, 'Positive': 177})"
            ]
          },
          "metadata": {},
          "execution_count": 28
        }
      ],
      "source": [
        "Counter(label_latih)"
      ]
    },
    {
      "cell_type": "markdown",
      "metadata": {
        "id": "t_DZwRjeZLmE"
      },
      "source": [
        "###Menghitung Jarak Euclidean"
      ]
    },
    {
      "cell_type": "code",
      "execution_count": null,
      "metadata": {
        "id": "oDOgaVBoRA4b"
      },
      "outputs": [],
      "source": [
        "from collections import Counter\n",
        "\n",
        "def EucMulti(k, datalatih, labellatih, datauji):\n",
        "  dictionary = {}\n",
        "  jarak = np.array([jarakEu(datalatih.iloc[x], datauji) for x in range (datalatih.shape[0])])\n",
        "  indeks_k_minimum = jarak.argsort()[:k] ##ini ngambil indeks kelasnya\n",
        "  k_kelas = labellatih.iloc[indeks_k_minimum].to_numpy() #ini ngambil kelasnya berdasarkan indeks_k_minimum\n",
        "  k_jarak = np.array([jarak[indeks_k_minimum[x]] for x in range(k_kelas.shape[0])])\n",
        " \n",
        "  return k_kelas, k_jarak"
      ]
    },
    {
      "cell_type": "code",
      "execution_count": null,
      "metadata": {
        "id": "Buq4PnC3VG2w"
      },
      "outputs": [],
      "source": [
        "##Hitung berapa sering kelas muncl\n",
        "def count_class(jarak_dict):\n",
        "  jarak_class = jarak_dict.values() \n",
        "  counter = Counter(jarak_class)\n",
        "  if(counter.get('Positive')==None):\n",
        "    counter.update({'Positive':0})\n",
        "  if(counter.get('Negative')==None):\n",
        "    counter.update({'Negative':0})\n",
        "  return counter"
      ]
    },
    {
      "cell_type": "markdown",
      "metadata": {
        "id": "pdhu9OBSa9hN"
      },
      "source": [
        "###Derajat Keanggotaan"
      ]
    },
    {
      "cell_type": "code",
      "execution_count": null,
      "metadata": {
        "id": "e9LWbuEHc7vd"
      },
      "outputs": [],
      "source": [
        "##ini derajat keanggotaan\n",
        "def membersLevel(k,m,k_kelas, k_jarak,inisialisasi):\n",
        "  positive = 0\n",
        "  negative = 0\n",
        "  u_bawah = 0\n",
        "  a = 2/(m-1)\n",
        "  for i in range(len(k_jarak)):\n",
        "    if(k_kelas[i]=='Positive'):\n",
        "      positive += inisialisasi.get('Positive1')*(1/(pow(k_jarak[i],a)))\n",
        "      negative += inisialisasi.get('Negative0') * (1/(pow(k_jarak[i],a)))\n",
        "    else:\n",
        "      positive += inisialisasi.get('Positive0') * (1/(pow(k_jarak[i],a)))\n",
        "      negative += inisialisasi.get('Negative1') * (1/(pow(k_jarak[i],a)))\n",
        "    u_bawah += 1/(pow(k_jarak[i], a))\n",
        "    \n",
        "  positiveLevel = positive/u_bawah\n",
        "  negativeLevel = negative/u_bawah\n",
        "\n",
        "  Level = max(positiveLevel, negativeLevel)\n",
        "  if(Level==positiveLevel):\n",
        "    return 'Positive'\n",
        "  else:\n",
        "    return 'Negative'"
      ]
    },
    {
      "cell_type": "markdown",
      "metadata": {
        "id": "1dsrJCoNbaHO"
      },
      "source": [
        "###Final Function"
      ]
    },
    {
      "cell_type": "code",
      "execution_count": null,
      "metadata": {
        "id": "lrLnfdphBiox"
      },
      "outputs": [],
      "source": [
        "def fuzzy(k,m, data_latih, label_latih, data_uji):\n",
        "  result = []\n",
        "  initialization = inisialisasi(label_latih)\n",
        "  for i in range(data_uji.shape[0]):\n",
        "    d_kelas, d_jarak = EucMulti(k, data_latih, label_latih, data_uji.iloc[i])\n",
        "    prediction = membersLevel(k,m,d_kelas, d_jarak,initialization)\n",
        "    result.append(prediction)\n",
        "  \n",
        "  return result"
      ]
    },
    {
      "cell_type": "markdown",
      "metadata": {
        "id": "jUvLq2ePcZo2"
      },
      "source": [
        "#Pengujian "
      ]
    },
    {
      "cell_type": "code",
      "execution_count": null,
      "metadata": {
        "id": "wLd8zitJc4em",
        "colab": {
          "base_uri": "https://localhost:8080/"
        },
        "outputId": "fb2c31d3-542c-4d59-bde2-1b2cfc96def4"
      },
      "outputs": [
        {
          "output_type": "execute_result",
          "data": {
            "text/plain": [
              "89.0"
            ]
          },
          "metadata": {},
          "execution_count": 33
        }
      ],
      "source": [
        "prediksi = fuzzy(5, 2, data_latih, label_latih, data_uji)\n",
        "akurasi = accuration(label_uji, prediksi)\n",
        "akurasi"
      ]
    },
    {
      "cell_type": "code",
      "source": [
        "##KNN\n",
        "kelas = knn_multi(5, data_latih, label_latih, data_uji)\n",
        "knn = accuration(label_uji,kelas)\n",
        "print(knn)"
      ],
      "metadata": {
        "colab": {
          "base_uri": "https://localhost:8080/"
        },
        "id": "qdoRbZX582iI",
        "outputId": "c32172d1-642d-47e4-d454-a243dec417ce"
      },
      "execution_count": null,
      "outputs": [
        {
          "output_type": "stream",
          "name": "stdout",
          "text": [
            "87.0\n"
          ]
        }
      ]
    },
    {
      "cell_type": "markdown",
      "metadata": {
        "id": "igdjeZX_O3VQ"
      },
      "source": [
        "###Pengujian Nilai K"
      ]
    },
    {
      "cell_type": "code",
      "execution_count": null,
      "metadata": {
        "id": "m6qZfvttJhBz"
      },
      "outputs": [],
      "source": [
        "list_akurasi = []\n",
        "for i in range(3,5,2):\n",
        "  prediksi = fuzzy(i, 2, data_latih, label_latih, data_uji)\n",
        "  akurasi = accuration(label_uji, prediksi)\n",
        "  list_akurasi.append(akurasi)"
      ]
    },
    {
      "cell_type": "code",
      "execution_count": null,
      "metadata": {
        "colab": {
          "base_uri": "https://localhost:8080/",
          "height": 295
        },
        "id": "xoojGXW0RI2O",
        "outputId": "413a6819-a1d9-4213-83a6-64abcdf09d18"
      },
      "outputs": [
        {
          "output_type": "display_data",
          "data": {
            "text/plain": [
              "<Figure size 432x288 with 1 Axes>"
            ],
            "image/png": "[encoded data removed]"
          },
          "metadata": {
            "needs_background": "light"
          }
        }
      ],
      "source": [
        "import matplotlib.pyplot as plt\n",
        "   \n",
        "k = np.array([x for x in range(3,40,2)]) \n",
        "  \n",
        "plt.plot(k, list_akurasi)\n",
        "plt.title('Pengujian Nilai K')\n",
        "plt.xlabel('Nilai K')\n",
        "plt.ylabel('Akurasi %')\n",
        "plt.show()"
      ]
    },
    {
      "cell_type": "markdown",
      "metadata": {
        "id": "S5qFp0CQO7Q9"
      },
      "source": [
        "###Pengujian Nilai M"
      ]
    },
    {
      "cell_type": "code",
      "execution_count": null,
      "metadata": {
        "id": "OqyJE9-_O9pC"
      },
      "outputs": [],
      "source": [
        "akurasiM = []\n",
        "for i in range(2,11):\n",
        "  prediksiM = fuzzy(5, i, data_latih, label_latih, data_uji)\n",
        "  akurasiM.append(accuration(label_uji, prediksiM))"
      ]
    },
    {
      "cell_type": "code",
      "execution_count": null,
      "metadata": {
        "id": "ShbxfNTpWEaM"
      },
      "outputs": [],
      "source": [
        "akurasiM"
      ]
    },
    {
      "cell_type": "code",
      "execution_count": null,
      "metadata": {
        "id": "lLywjX-bR2zV"
      },
      "outputs": [],
      "source": [
        "import matplotlib.pyplot as plt\n",
        "   \n",
        "m = np.array([x for x in range(2,11)]) \n",
        "  \n",
        "plt.plot(m, akurasiM,color='green',marker='o' )\n",
        "plt.title('Pengujian Nilai M')\n",
        "plt.xlabel('Nilai M')\n",
        "plt.ylabel('Akurasi')\n",
        "plt.show()"
      ]
    },
    {
      "cell_type": "markdown",
      "metadata": {
        "id": "bOZ5hOO2E3-j"
      },
      "source": [
        "###Pengujian KNN dan Fuzzy KNN"
      ]
    },
    {
      "cell_type": "code",
      "source": [
        "list_akurasik = []\n",
        "for i in range(3, 40, 2):\n",
        "  kelas = knn_multi(i, data_latih, label_latih, data_uji)\n",
        "  akurasik = accuration(label_uji, kelas)\n",
        "  list_akurasik.append(akurasik)"
      ],
      "metadata": {
        "id": "TyKA7HzGP88p"
      },
      "execution_count": null,
      "outputs": []
    },
    {
      "cell_type": "code",
      "source": [
        "import matplotlib.pyplot as plt\n",
        "   \n",
        "k = np.array([x for x in range(3,40,2)]) \n",
        "  \n",
        "plt.plot(k, list_akurasi,color='red', label='Fuzzy KNN')\n",
        "plt.plot(k, list_akurasik, color='green', label='KNN')\n",
        "plt.title('Pengujian Nilai K')\n",
        "plt.xlabel('Nilai K')\n",
        "plt.ylabel('Akurasi %')\n",
        "plt.legend(loc=\"upper right\")\n",
        "plt.show()"
      ],
      "metadata": {
        "colab": {
          "base_uri": "https://localhost:8080/",
          "height": 295
        },
        "id": "RxS3rlOxR7e6",
        "outputId": "3aa43914-eae5-450f-b445-add323b41661"
      },
      "execution_count": null,
      "outputs": [
        {
          "output_type": "display_data",
          "data": {
            "text/plain": [
              "<Figure size 432x288 with 1 Axes>"
            ],
            "image/png": "[encoded data removed]"
          },
          "metadata": {
            "needs_background": "light"
          }
        }
      ]
    }
  ],
  "metadata": {
    "colab": {
      "collapsed_sections": [
        "6k89335GR--J",
        "E5sltCL-SMkS",
        "HN6oeWvoZTVy",
        "t_DZwRjeZLmE",
        "S5qFp0CQO7Q9"
      ],
      "provenance": [],
      "include_colab_link": true
    },
    "kernelspec": {
      "display_name": "Python 3",
      "name": "python3"
    },
    "language_info": {
      "name": "python"
    }
  },
  "nbformat": 4,
  "nbformat_minor": 0
}